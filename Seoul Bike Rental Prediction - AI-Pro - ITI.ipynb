{
 "cells": [
  {
   "cell_type": "code",
   "execution_count": 1,
   "id": "14244ac3",
   "metadata": {
    "execution": {
     "iopub.execute_input": "2021-08-30T14:09:00.711303Z",
     "iopub.status.busy": "2021-08-30T14:09:00.710214Z",
     "iopub.status.idle": "2021-08-30T14:09:02.172230Z",
     "shell.execute_reply": "2021-08-30T14:09:02.171253Z",
     "shell.execute_reply.started": "2021-08-30T13:59:56.062746Z"
    },
    "papermill": {
     "duration": 1.50044,
     "end_time": "2021-08-30T14:09:02.172398",
     "exception": false,
     "start_time": "2021-08-30T14:09:00.671958",
     "status": "completed"
    },
    "tags": []
   },
   "outputs": [],
   "source": [
    "import pandas as pd\n",
    "import numpy as np\n",
    "import matplotlib.pyplot as plt\n",
    "import seaborn as sns\n",
    "from sklearn.preprocessing import LabelBinarizer\n",
    "from sklearn.model_selection import train_test_split\n",
    "from sklearn.feature_selection import SelectKBest, f_regression\n",
    "from sklearn import metrics\n",
    "import math\n",
    "from scipy.stats import boxcox\n",
    "from scipy.special import inv_boxcox\n",
    "from sklearn.linear_model import ElasticNet\n",
    "from sklearn.preprocessing import (StandardScaler, \n",
    "                                   PolynomialFeatures)\n",
    "\n",
    "from scipy.stats import boxcox\n",
    "from scipy.special import inv_boxcox\n",
    "from sklearn.metrics import r2_score\n",
    "from sklearn.metrics import mean_squared_log_error\n",
    "from sklearn.ensemble import ExtraTreesRegressor\n",
    "from sklearn.model_selection import RandomizedSearchCV\n",
    "from sklearn.preprocessing import StandardScaler\n",
    "import xgboost\n",
    "from sklearn.ensemble import RandomForestRegressor\n",
    "from sklearn.svm import SVR\n",
    "from sklearn.preprocessing import StandardScaler\n",
    "from sklearn.cluster import KMeans\n",
    "from sklearn.model_selection import RandomizedSearchCV, GridSearchCV\n",
    "\n",
    "\n",
    "from sklearn.ensemble import GradientBoostingRegressor"
   ]
  },
  {
   "cell_type": "markdown",
   "id": "f6a6b0ff",
   "metadata": {
    "papermill": {
     "duration": 0.039615,
     "end_time": "2021-08-30T14:09:02.247218",
     "exception": false,
     "start_time": "2021-08-30T14:09:02.207603",
     "status": "completed"
    },
    "tags": []
   },
   "source": [
    "# Importing and Initially exploring the data"
   ]
  },
  {
   "cell_type": "code",
   "execution_count": 2,
   "id": "7ba3daab",
   "metadata": {
    "execution": {
     "iopub.execute_input": "2021-08-30T14:09:02.330503Z",
     "iopub.status.busy": "2021-08-30T14:09:02.329609Z",
     "iopub.status.idle": "2021-08-30T14:09:02.387369Z",
     "shell.execute_reply": "2021-08-30T14:09:02.387808Z",
     "shell.execute_reply.started": "2021-08-30T13:54:23.195291Z"
    },
    "papermill": {
     "duration": 0.097512,
     "end_time": "2021-08-30T14:09:02.387977",
     "exception": false,
     "start_time": "2021-08-30T14:09:02.290465",
     "status": "completed"
    },
    "tags": []
   },
   "outputs": [
    {
     "data": {
      "text/html": [
       "<div>\n",
       "<style scoped>\n",
       "    .dataframe tbody tr th:only-of-type {\n",
       "        vertical-align: middle;\n",
       "    }\n",
       "\n",
       "    .dataframe tbody tr th {\n",
       "        vertical-align: top;\n",
       "    }\n",
       "\n",
       "    .dataframe thead th {\n",
       "        text-align: right;\n",
       "    }\n",
       "</style>\n",
       "<table border=\"1\" class=\"dataframe\">\n",
       "  <thead>\n",
       "    <tr style=\"text-align: right;\">\n",
       "      <th></th>\n",
       "      <th>ID</th>\n",
       "      <th>Date</th>\n",
       "      <th>y</th>\n",
       "      <th>Hour</th>\n",
       "      <th>Temperature(�C)</th>\n",
       "      <th>Humidity(%)</th>\n",
       "      <th>Wind speed (m/s)</th>\n",
       "      <th>Visibility (10m)</th>\n",
       "      <th>Dew point temperature(�C)</th>\n",
       "      <th>Solar Radiation (MJ/m2)</th>\n",
       "      <th>Rainfall(mm)</th>\n",
       "      <th>Snowfall (cm)</th>\n",
       "      <th>Seasons</th>\n",
       "      <th>Holiday</th>\n",
       "      <th>Functioning Day</th>\n",
       "    </tr>\n",
       "  </thead>\n",
       "  <tbody>\n",
       "    <tr>\n",
       "      <th>0</th>\n",
       "      <td>0</td>\n",
       "      <td>01/12/2017</td>\n",
       "      <td>254</td>\n",
       "      <td>0</td>\n",
       "      <td>-5.2</td>\n",
       "      <td>37</td>\n",
       "      <td>2.2</td>\n",
       "      <td>2000</td>\n",
       "      <td>-17.6</td>\n",
       "      <td>0.0</td>\n",
       "      <td>0.0</td>\n",
       "      <td>0.0</td>\n",
       "      <td>Winter</td>\n",
       "      <td>No Holiday</td>\n",
       "      <td>Yes</td>\n",
       "    </tr>\n",
       "    <tr>\n",
       "      <th>1</th>\n",
       "      <td>1</td>\n",
       "      <td>01/12/2017</td>\n",
       "      <td>204</td>\n",
       "      <td>1</td>\n",
       "      <td>-5.5</td>\n",
       "      <td>38</td>\n",
       "      <td>0.8</td>\n",
       "      <td>2000</td>\n",
       "      <td>-17.6</td>\n",
       "      <td>0.0</td>\n",
       "      <td>0.0</td>\n",
       "      <td>0.0</td>\n",
       "      <td>Winter</td>\n",
       "      <td>No Holiday</td>\n",
       "      <td>Yes</td>\n",
       "    </tr>\n",
       "    <tr>\n",
       "      <th>2</th>\n",
       "      <td>2</td>\n",
       "      <td>01/12/2017</td>\n",
       "      <td>173</td>\n",
       "      <td>2</td>\n",
       "      <td>-6.0</td>\n",
       "      <td>39</td>\n",
       "      <td>1.0</td>\n",
       "      <td>2000</td>\n",
       "      <td>-17.7</td>\n",
       "      <td>0.0</td>\n",
       "      <td>0.0</td>\n",
       "      <td>0.0</td>\n",
       "      <td>Winter</td>\n",
       "      <td>No Holiday</td>\n",
       "      <td>Yes</td>\n",
       "    </tr>\n",
       "    <tr>\n",
       "      <th>3</th>\n",
       "      <td>3</td>\n",
       "      <td>01/12/2017</td>\n",
       "      <td>107</td>\n",
       "      <td>3</td>\n",
       "      <td>-6.2</td>\n",
       "      <td>40</td>\n",
       "      <td>0.9</td>\n",
       "      <td>2000</td>\n",
       "      <td>-17.6</td>\n",
       "      <td>0.0</td>\n",
       "      <td>0.0</td>\n",
       "      <td>0.0</td>\n",
       "      <td>Winter</td>\n",
       "      <td>No Holiday</td>\n",
       "      <td>Yes</td>\n",
       "    </tr>\n",
       "    <tr>\n",
       "      <th>4</th>\n",
       "      <td>4</td>\n",
       "      <td>01/12/2017</td>\n",
       "      <td>78</td>\n",
       "      <td>4</td>\n",
       "      <td>-6.0</td>\n",
       "      <td>36</td>\n",
       "      <td>2.3</td>\n",
       "      <td>2000</td>\n",
       "      <td>-18.6</td>\n",
       "      <td>0.0</td>\n",
       "      <td>0.0</td>\n",
       "      <td>0.0</td>\n",
       "      <td>Winter</td>\n",
       "      <td>No Holiday</td>\n",
       "      <td>Yes</td>\n",
       "    </tr>\n",
       "  </tbody>\n",
       "</table>\n",
       "</div>"
      ],
      "text/plain": [
       "   ID        Date    y  Hour  Temperature(�C)  Humidity(%)  Wind speed (m/s)  \\\n",
       "0   0  01/12/2017  254     0             -5.2           37               2.2   \n",
       "1   1  01/12/2017  204     1             -5.5           38               0.8   \n",
       "2   2  01/12/2017  173     2             -6.0           39               1.0   \n",
       "3   3  01/12/2017  107     3             -6.2           40               0.9   \n",
       "4   4  01/12/2017   78     4             -6.0           36               2.3   \n",
       "\n",
       "   Visibility (10m)  Dew point temperature(�C)  Solar Radiation (MJ/m2)  \\\n",
       "0              2000                      -17.6                      0.0   \n",
       "1              2000                      -17.6                      0.0   \n",
       "2              2000                      -17.7                      0.0   \n",
       "3              2000                      -17.6                      0.0   \n",
       "4              2000                      -18.6                      0.0   \n",
       "\n",
       "   Rainfall(mm)  Snowfall (cm) Seasons     Holiday Functioning Day  \n",
       "0           0.0            0.0  Winter  No Holiday             Yes  \n",
       "1           0.0            0.0  Winter  No Holiday             Yes  \n",
       "2           0.0            0.0  Winter  No Holiday             Yes  \n",
       "3           0.0            0.0  Winter  No Holiday             Yes  \n",
       "4           0.0            0.0  Winter  No Holiday             Yes  "
      ]
     },
     "execution_count": 2,
     "metadata": {},
     "output_type": "execute_result"
    }
   ],
   "source": [
    "df=pd.read_csv('../input/seoul-bike-rental-ai-pro-iti/train.csv')\n",
    "df.head()"
   ]
  },
  {
   "cell_type": "markdown",
   "id": "bc7b71e0",
   "metadata": {
    "papermill": {
     "duration": 0.033816,
     "end_time": "2021-08-30T14:09:02.456291",
     "exception": false,
     "start_time": "2021-08-30T14:09:02.422475",
     "status": "completed"
    },
    "tags": []
   },
   "source": [
    "# Adding Y_AVG_HOUR_SEASON FEATURE"
   ]
  },
  {
   "cell_type": "code",
   "execution_count": 3,
   "id": "cdcbdadc",
   "metadata": {
    "execution": {
     "iopub.execute_input": "2021-08-30T14:09:02.531759Z",
     "iopub.status.busy": "2021-08-30T14:09:02.531190Z",
     "iopub.status.idle": "2021-08-30T14:09:02.538564Z",
     "shell.execute_reply": "2021-08-30T14:09:02.539041Z",
     "shell.execute_reply.started": "2021-08-30T13:54:24.061182Z"
    },
    "papermill": {
     "duration": 0.048917,
     "end_time": "2021-08-30T14:09:02.539208",
     "exception": false,
     "start_time": "2021-08-30T14:09:02.490291",
     "status": "completed"
    },
    "tags": []
   },
   "outputs": [],
   "source": [
    "Winter_df = df.loc[(df['Seasons'] == 'Winter')]\n",
    "Summer_df = df.loc[(df['Seasons'] == 'Summer')]\n",
    "Autumn_df = df.loc[(df['Seasons'] == 'Autumn')]\n",
    "Spring_df = df.loc[(df['Seasons'] == 'Spring')]\n",
    "################################"
   ]
  },
  {
   "cell_type": "code",
   "execution_count": 4,
   "id": "95179264",
   "metadata": {
    "execution": {
     "iopub.execute_input": "2021-08-30T14:09:02.620626Z",
     "iopub.status.busy": "2021-08-30T14:09:02.619605Z",
     "iopub.status.idle": "2021-08-30T14:09:03.335705Z",
     "shell.execute_reply": "2021-08-30T14:09:03.335097Z",
     "shell.execute_reply.started": "2021-08-30T13:54:26.155678Z"
    },
    "papermill": {
     "duration": 0.762451,
     "end_time": "2021-08-30T14:09:03.335855",
     "exception": false,
     "start_time": "2021-08-30T14:09:02.573404",
     "status": "completed"
    },
    "tags": []
   },
   "outputs": [
    {
     "data": {
      "image/png": "[encoded data removed]",
      "text/plain": [
       "<Figure size 1440x720 with 4 Axes>"
      ]
     },
     "metadata": {
      "needs_background": "light"
     },
     "output_type": "display_data"
    }
   ],
   "source": [
    "temp_winter = Winter_df.groupby('Hour').mean()\n",
    "temp_summer = Summer_df.groupby('Hour').mean()\n",
    "temp_autumn = Autumn_df.groupby('Hour').mean()\n",
    "temp_spring = Spring_df.groupby('Hour').mean()\n",
    "#################################################\n",
    "y_Hour_winter = temp_winter['y']\n",
    "y_Hour_summer = temp_summer['y']\n",
    "y_Hour_autumn = temp_autumn['y']\n",
    "y_Hour_spring = temp_spring['y']\n",
    "Hour = np.arange(0,24,step = 1)\n",
    "# ax = plt.subplots(2,2,1)\n",
    "fig, axs = plt.subplots(2, 2,figsize=(20,10))\n",
    "axs[0, 0].bar(Hour,y_Hour_winter,color = 'b')\n",
    "axs[0, 0].set_title('Winter')\n",
    "axs[0, 1].bar(Hour,y_Hour_summer,color = 'r')\n",
    "axs[0, 1].set_title('Summer')\n",
    "axs[1, 0].bar(Hour,y_Hour_autumn,color = 'g')\n",
    "axs[1, 0].set_title('Autumn')\n",
    "axs[1, 1].bar(Hour,y_Hour_spring,color='y')\n",
    "axs[1, 1].set_title('Spring')\n",
    "plt.show()\n"
   ]
  },
  {
   "cell_type": "code",
   "execution_count": 5,
   "id": "793d0371",
   "metadata": {
    "execution": {
     "iopub.execute_input": "2021-08-30T14:09:03.422716Z",
     "iopub.status.busy": "2021-08-30T14:09:03.421634Z",
     "iopub.status.idle": "2021-08-30T14:09:03.470665Z",
     "shell.execute_reply": "2021-08-30T14:09:03.470183Z",
     "shell.execute_reply.started": "2021-08-30T13:54:41.394215Z"
    },
    "papermill": {
     "duration": 0.099876,
     "end_time": "2021-08-30T14:09:03.470841",
     "exception": false,
     "start_time": "2021-08-30T14:09:03.370965",
     "status": "completed"
    },
    "tags": []
   },
   "outputs": [],
   "source": [
    "##############################################\n",
    "y_Hour_autumn_df = pd.DataFrame(Hour,columns = ['Hour'])\n",
    "y_Hour_autumn_df['Seasons'] = 'Autumn'\n",
    "y_Hour_autumn_df['y_avg_autumn_hour'] = y_Hour_autumn\n",
    "\n",
    "y_Hour_spring_df = pd.DataFrame(Hour,columns = ['Hour'])\n",
    "y_Hour_spring_df['Seasons'] = 'Spring'\n",
    "y_Hour_spring_df['y_avg_spring_hour'] = y_Hour_spring\n",
    "\n",
    "y_Hour_summer_df = pd.DataFrame(Hour,columns = ['Hour'])\n",
    "y_Hour_summer_df['Seasons'] = 'Summer'\n",
    "y_Hour_summer_df['y_avg_summer_hour'] = y_Hour_summer\n",
    "\n",
    "y_Hour_winter_df = pd.DataFrame(Hour,columns = ['Hour'])\n",
    "y_Hour_winter_df['Seasons'] = 'Winter'\n",
    "y_Hour_winter_df['y_avg_winter_hour'] = y_Hour_winter\n",
    "#######################################################\n",
    "merged_df=pd.merge(df,y_Hour_autumn_df,on=['Seasons','Hour'],how='left')\n",
    "merged_df=pd.merge(merged_df,y_Hour_spring_df,on=['Seasons','Hour'],how='left')\n",
    "merged_df=pd.merge(merged_df,y_Hour_summer_df,on=['Seasons','Hour'],how='left')\n",
    "merged_df=pd.merge(merged_df,y_Hour_winter_df,on=['Seasons','Hour'],how='left')\n",
    "########################################################\n",
    "merged_df = merged_df.fillna(0)\n",
    "##################################\n",
    "merged_df['y_avg_season_hour'] = merged_df['y_avg_autumn_hour']+ merged_df['y_avg_spring_hour'] +merged_df['y_avg_summer_hour'] +merged_df['y_avg_winter_hour']\n",
    "df['y_avg_season_hour'] = merged_df['y_avg_season_hour']"
   ]
  },
  {
   "cell_type": "markdown",
   "id": "bb0b649f",
   "metadata": {
    "papermill": {
     "duration": 0.036297,
     "end_time": "2021-08-30T14:09:03.542438",
     "exception": false,
     "start_time": "2021-08-30T14:09:03.506141",
     "status": "completed"
    },
    "tags": []
   },
   "source": [
    "# Clustering Weather Data"
   ]
  },
  {
   "cell_type": "code",
   "execution_count": 6,
   "id": "b44a400f",
   "metadata": {
    "execution": {
     "iopub.execute_input": "2021-08-30T14:09:03.619728Z",
     "iopub.status.busy": "2021-08-30T14:09:03.618719Z",
     "iopub.status.idle": "2021-08-30T14:09:05.484162Z",
     "shell.execute_reply": "2021-08-30T14:09:05.484650Z",
     "shell.execute_reply.started": "2021-08-30T13:54:42.722334Z"
    },
    "papermill": {
     "duration": 1.907063,
     "end_time": "2021-08-30T14:09:05.484868",
     "exception": false,
     "start_time": "2021-08-30T14:09:03.577805",
     "status": "completed"
    },
    "tags": []
   },
   "outputs": [],
   "source": [
    "cluster_list = ['Temperature(�C)','Humidity(%)','Wind speed (m/s)','Visibility (10m)','Solar Radiation (MJ/m2)','Rainfall(mm)','Snowfall (cm)']\n",
    "X = StandardScaler().fit_transform(df[cluster_list])\n",
    "kmeans = KMeans(n_clusters=14)\n",
    "model = kmeans.fit(X)\n",
    "df['weathercluster'] = model.predict(StandardScaler().fit_transform(df[cluster_list]))"
   ]
  },
  {
   "cell_type": "markdown",
   "id": "35afdefc",
   "metadata": {
    "papermill": {
     "duration": 0.045887,
     "end_time": "2021-08-30T14:09:05.576057",
     "exception": false,
     "start_time": "2021-08-30T14:09:05.530170",
     "status": "completed"
    },
    "tags": []
   },
   "source": []
  },
  {
   "cell_type": "code",
   "execution_count": 7,
   "id": "7b188687",
   "metadata": {
    "execution": {
     "iopub.execute_input": "2021-08-30T14:09:05.676765Z",
     "iopub.status.busy": "2021-08-30T14:09:05.676020Z",
     "iopub.status.idle": "2021-08-30T14:09:05.734560Z",
     "shell.execute_reply": "2021-08-30T14:09:05.735068Z",
     "shell.execute_reply.started": "2021-08-30T13:55:28.004082Z"
    },
    "papermill": {
     "duration": 0.113452,
     "end_time": "2021-08-30T14:09:05.735279",
     "exception": false,
     "start_time": "2021-08-30T14:09:05.621827",
     "status": "completed"
    },
    "tags": []
   },
   "outputs": [
    {
     "data": {
      "text/html": [
       "<div>\n",
       "<style scoped>\n",
       "    .dataframe tbody tr th:only-of-type {\n",
       "        vertical-align: middle;\n",
       "    }\n",
       "\n",
       "    .dataframe tbody tr th {\n",
       "        vertical-align: top;\n",
       "    }\n",
       "\n",
       "    .dataframe thead th {\n",
       "        text-align: right;\n",
       "    }\n",
       "</style>\n",
       "<table border=\"1\" class=\"dataframe\">\n",
       "  <thead>\n",
       "    <tr style=\"text-align: right;\">\n",
       "      <th></th>\n",
       "      <th>count</th>\n",
       "      <th>mean</th>\n",
       "      <th>std</th>\n",
       "      <th>min</th>\n",
       "      <th>25%</th>\n",
       "      <th>50%</th>\n",
       "      <th>75%</th>\n",
       "      <th>max</th>\n",
       "    </tr>\n",
       "  </thead>\n",
       "  <tbody>\n",
       "    <tr>\n",
       "      <th>ID</th>\n",
       "      <td>5760.0</td>\n",
       "      <td>2879.500000</td>\n",
       "      <td>1662.913107</td>\n",
       "      <td>0.000000</td>\n",
       "      <td>1439.750</td>\n",
       "      <td>2879.500000</td>\n",
       "      <td>4319.250</td>\n",
       "      <td>5759.000000</td>\n",
       "    </tr>\n",
       "    <tr>\n",
       "      <th>y</th>\n",
       "      <td>5760.0</td>\n",
       "      <td>703.483854</td>\n",
       "      <td>655.249491</td>\n",
       "      <td>0.000000</td>\n",
       "      <td>188.000</td>\n",
       "      <td>485.500000</td>\n",
       "      <td>1066.000</td>\n",
       "      <td>3556.000000</td>\n",
       "    </tr>\n",
       "    <tr>\n",
       "      <th>Hour</th>\n",
       "      <td>5760.0</td>\n",
       "      <td>11.500000</td>\n",
       "      <td>6.922788</td>\n",
       "      <td>0.000000</td>\n",
       "      <td>5.750</td>\n",
       "      <td>11.500000</td>\n",
       "      <td>17.250</td>\n",
       "      <td>23.000000</td>\n",
       "    </tr>\n",
       "    <tr>\n",
       "      <th>Temperature(�C)</th>\n",
       "      <td>5760.0</td>\n",
       "      <td>12.803559</td>\n",
       "      <td>11.902206</td>\n",
       "      <td>-15.100000</td>\n",
       "      <td>3.200</td>\n",
       "      <td>13.700000</td>\n",
       "      <td>22.225</td>\n",
       "      <td>39.400000</td>\n",
       "    </tr>\n",
       "    <tr>\n",
       "      <th>Humidity(%)</th>\n",
       "      <td>5760.0</td>\n",
       "      <td>58.361806</td>\n",
       "      <td>19.840167</td>\n",
       "      <td>0.000000</td>\n",
       "      <td>43.000</td>\n",
       "      <td>57.000000</td>\n",
       "      <td>73.000</td>\n",
       "      <td>98.000000</td>\n",
       "    </tr>\n",
       "    <tr>\n",
       "      <th>Wind speed (m/s)</th>\n",
       "      <td>5760.0</td>\n",
       "      <td>1.723333</td>\n",
       "      <td>1.047898</td>\n",
       "      <td>0.000000</td>\n",
       "      <td>0.900</td>\n",
       "      <td>1.500000</td>\n",
       "      <td>2.300</td>\n",
       "      <td>7.400000</td>\n",
       "    </tr>\n",
       "    <tr>\n",
       "      <th>Visibility (10m)</th>\n",
       "      <td>5760.0</td>\n",
       "      <td>1473.711458</td>\n",
       "      <td>585.879880</td>\n",
       "      <td>27.000000</td>\n",
       "      <td>1025.750</td>\n",
       "      <td>1732.000000</td>\n",
       "      <td>2000.000</td>\n",
       "      <td>2000.000000</td>\n",
       "    </tr>\n",
       "    <tr>\n",
       "      <th>Dew point temperature(�C)</th>\n",
       "      <td>5760.0</td>\n",
       "      <td>4.058264</td>\n",
       "      <td>13.003582</td>\n",
       "      <td>-26.900000</td>\n",
       "      <td>-5.400</td>\n",
       "      <td>5.200000</td>\n",
       "      <td>14.700</td>\n",
       "      <td>27.200000</td>\n",
       "    </tr>\n",
       "    <tr>\n",
       "      <th>Solar Radiation (MJ/m2)</th>\n",
       "      <td>5760.0</td>\n",
       "      <td>0.572325</td>\n",
       "      <td>0.869943</td>\n",
       "      <td>0.000000</td>\n",
       "      <td>0.000</td>\n",
       "      <td>0.010000</td>\n",
       "      <td>0.940</td>\n",
       "      <td>3.520000</td>\n",
       "    </tr>\n",
       "    <tr>\n",
       "      <th>Rainfall(mm)</th>\n",
       "      <td>5760.0</td>\n",
       "      <td>0.135122</td>\n",
       "      <td>1.075320</td>\n",
       "      <td>0.000000</td>\n",
       "      <td>0.000</td>\n",
       "      <td>0.000000</td>\n",
       "      <td>0.000</td>\n",
       "      <td>35.000000</td>\n",
       "    </tr>\n",
       "    <tr>\n",
       "      <th>Snowfall (cm)</th>\n",
       "      <td>5760.0</td>\n",
       "      <td>0.046302</td>\n",
       "      <td>0.323728</td>\n",
       "      <td>0.000000</td>\n",
       "      <td>0.000</td>\n",
       "      <td>0.000000</td>\n",
       "      <td>0.000</td>\n",
       "      <td>5.100000</td>\n",
       "    </tr>\n",
       "    <tr>\n",
       "      <th>y_avg_season_hour</th>\n",
       "      <td>5760.0</td>\n",
       "      <td>703.483854</td>\n",
       "      <td>502.743488</td>\n",
       "      <td>49.333333</td>\n",
       "      <td>260.175</td>\n",
       "      <td>653.833333</td>\n",
       "      <td>958.625</td>\n",
       "      <td>2265.033333</td>\n",
       "    </tr>\n",
       "    <tr>\n",
       "      <th>weathercluster</th>\n",
       "      <td>5760.0</td>\n",
       "      <td>6.673438</td>\n",
       "      <td>4.178238</td>\n",
       "      <td>0.000000</td>\n",
       "      <td>4.000</td>\n",
       "      <td>6.000000</td>\n",
       "      <td>11.000</td>\n",
       "      <td>13.000000</td>\n",
       "    </tr>\n",
       "  </tbody>\n",
       "</table>\n",
       "</div>"
      ],
      "text/plain": [
       "                            count         mean          std        min  \\\n",
       "ID                         5760.0  2879.500000  1662.913107   0.000000   \n",
       "y                          5760.0   703.483854   655.249491   0.000000   \n",
       "Hour                       5760.0    11.500000     6.922788   0.000000   \n",
       "Temperature(�C)            5760.0    12.803559    11.902206 -15.100000   \n",
       "Humidity(%)                5760.0    58.361806    19.840167   0.000000   \n",
       "Wind speed (m/s)           5760.0     1.723333     1.047898   0.000000   \n",
       "Visibility (10m)           5760.0  1473.711458   585.879880  27.000000   \n",
       "Dew point temperature(�C)  5760.0     4.058264    13.003582 -26.900000   \n",
       "Solar Radiation (MJ/m2)    5760.0     0.572325     0.869943   0.000000   \n",
       "Rainfall(mm)               5760.0     0.135122     1.075320   0.000000   \n",
       "Snowfall (cm)              5760.0     0.046302     0.323728   0.000000   \n",
       "y_avg_season_hour          5760.0   703.483854   502.743488  49.333333   \n",
       "weathercluster             5760.0     6.673438     4.178238   0.000000   \n",
       "\n",
       "                                25%          50%       75%          max  \n",
       "ID                         1439.750  2879.500000  4319.250  5759.000000  \n",
       "y                           188.000   485.500000  1066.000  3556.000000  \n",
       "Hour                          5.750    11.500000    17.250    23.000000  \n",
       "Temperature(�C)               3.200    13.700000    22.225    39.400000  \n",
       "Humidity(%)                  43.000    57.000000    73.000    98.000000  \n",
       "Wind speed (m/s)              0.900     1.500000     2.300     7.400000  \n",
       "Visibility (10m)           1025.750  1732.000000  2000.000  2000.000000  \n",
       "Dew point temperature(�C)    -5.400     5.200000    14.700    27.200000  \n",
       "Solar Radiation (MJ/m2)       0.000     0.010000     0.940     3.520000  \n",
       "Rainfall(mm)                  0.000     0.000000     0.000    35.000000  \n",
       "Snowfall (cm)                 0.000     0.000000     0.000     5.100000  \n",
       "y_avg_season_hour           260.175   653.833333   958.625  2265.033333  \n",
       "weathercluster                4.000     6.000000    11.000    13.000000  "
      ]
     },
     "execution_count": 7,
     "metadata": {},
     "output_type": "execute_result"
    }
   ],
   "source": [
    "df.describe().T\n"
   ]
  },
  {
   "cell_type": "markdown",
   "id": "73442fea",
   "metadata": {
    "execution": {
     "iopub.execute_input": "2021-08-02T11:27:23.600286Z",
     "iopub.status.busy": "2021-08-02T11:27:23.599749Z",
     "iopub.status.idle": "2021-08-02T11:27:23.616073Z",
     "shell.execute_reply": "2021-08-02T11:27:23.614876Z",
     "shell.execute_reply.started": "2021-08-02T11:27:23.600253Z"
    },
    "papermill": {
     "duration": 0.050789,
     "end_time": "2021-08-30T14:09:05.835968",
     "exception": false,
     "start_time": "2021-08-30T14:09:05.785179",
     "status": "completed"
    },
    "tags": []
   },
   "source": [
    "## Encoding non numeric catagorical data  "
   ]
  },
  {
   "cell_type": "code",
   "execution_count": 8,
   "id": "f04f80a0",
   "metadata": {
    "execution": {
     "iopub.execute_input": "2021-08-30T14:09:05.930280Z",
     "iopub.status.busy": "2021-08-30T14:09:05.928535Z",
     "iopub.status.idle": "2021-08-30T14:09:05.932973Z",
     "shell.execute_reply": "2021-08-30T14:09:05.933395Z",
     "shell.execute_reply.started": "2021-08-30T14:03:40.677099Z"
    },
    "papermill": {
     "duration": 0.050164,
     "end_time": "2021-08-30T14:09:05.933548",
     "exception": false,
     "start_time": "2021-08-30T14:09:05.883384",
     "status": "completed"
    },
    "tags": []
   },
   "outputs": [
    {
     "name": "stdout",
     "output_type": "stream",
     "text": [
      "['Yes' 'No']\n",
      "['Winter' 'Spring' 'Summer' 'Autumn']\n",
      "['No Holiday' 'Holiday']\n"
     ]
    }
   ],
   "source": [
    "print(df['Functioning Day'].unique())\n",
    "print(df['Seasons'].unique())\n",
    "print(df['Holiday'].unique())"
   ]
  },
  {
   "cell_type": "code",
   "execution_count": 9,
   "id": "4de9312c",
   "metadata": {
    "execution": {
     "iopub.execute_input": "2021-08-30T14:09:06.014227Z",
     "iopub.status.busy": "2021-08-30T14:09:06.013365Z",
     "iopub.status.idle": "2021-08-30T14:09:06.017619Z",
     "shell.execute_reply": "2021-08-30T14:09:06.017091Z",
     "shell.execute_reply.started": "2021-08-30T14:03:40.896004Z"
    },
    "papermill": {
     "duration": 0.047962,
     "end_time": "2021-08-30T14:09:06.018084",
     "exception": false,
     "start_time": "2021-08-30T14:09:05.970122",
     "status": "completed"
    },
    "tags": []
   },
   "outputs": [],
   "source": [
    "y=df[['y']]\n",
    "X=df.drop(['y','ID'], axis=1)\n",
    "y=np.ravel(y)\n"
   ]
  },
  {
   "cell_type": "code",
   "execution_count": 10,
   "id": "aa7af19f",
   "metadata": {
    "execution": {
     "iopub.execute_input": "2021-08-30T14:09:06.097906Z",
     "iopub.status.busy": "2021-08-30T14:09:06.096891Z",
     "iopub.status.idle": "2021-08-30T14:09:06.120933Z",
     "shell.execute_reply": "2021-08-30T14:09:06.120434Z",
     "shell.execute_reply.started": "2021-08-30T14:03:41.396456Z"
    },
    "papermill": {
     "duration": 0.06628,
     "end_time": "2021-08-30T14:09:06.121082",
     "exception": false,
     "start_time": "2021-08-30T14:09:06.054802",
     "status": "completed"
    },
    "tags": []
   },
   "outputs": [],
   "source": [
    "X1=X.copy()\n",
    "from sklearn.preprocessing import LabelBinarizer\n",
    "def Binarizer(column,data):\n",
    "    encoder = LabelBinarizer()\n",
    "    encoder.fit(data[column].astype(str))\n",
    "    transformed = encoder.transform(data[column].astype(str))\n",
    "    ohe_df = pd.DataFrame(transformed)\n",
    "    data = pd.concat([data, ohe_df], axis=1).drop([column], axis=1)\n",
    "    data=data.rename(columns={0:column})\n",
    "    data[column]=data[column].astype(np.int64)\n",
    "    return data\n",
    "#X1=Binarizer('Holiday',X1)\n",
    "X1=Binarizer('Functioning Day',X1)\n"
   ]
  },
  {
   "cell_type": "code",
   "execution_count": 11,
   "id": "201eef66",
   "metadata": {
    "execution": {
     "iopub.execute_input": "2021-08-30T14:09:06.200075Z",
     "iopub.status.busy": "2021-08-30T14:09:06.199239Z",
     "iopub.status.idle": "2021-08-30T14:09:06.203896Z",
     "shell.execute_reply": "2021-08-30T14:09:06.203324Z",
     "shell.execute_reply.started": "2021-08-30T14:03:41.439083Z"
    },
    "papermill": {
     "duration": 0.046209,
     "end_time": "2021-08-30T14:09:06.204033",
     "exception": false,
     "start_time": "2021-08-30T14:09:06.157824",
     "status": "completed"
    },
    "tags": []
   },
   "outputs": [],
   "source": [
    "# defining Lag features\n",
    "\n",
    "features=['Hour','Temperature(�C)','Visibility (10m)','Solar Radiation (MJ/m2)','y_avg_season_hour'\\\n",
    "          ,'Humidity(%)','Wind speed (m/s)','Snowfall (cm)','Rainfall(mm)','Dew point temperature(�C)','weathercluster']\n",
    "\n",
    "def lag(data,features, shift):\n",
    "    for feature in features:\n",
    "        data['lag_'+str(shift)+'_'+feature] = data[feature].shift(shift)"
   ]
  },
  {
   "cell_type": "code",
   "execution_count": 12,
   "id": "622de113",
   "metadata": {
    "execution": {
     "iopub.execute_input": "2021-08-30T14:09:06.285959Z",
     "iopub.status.busy": "2021-08-30T14:09:06.285341Z",
     "iopub.status.idle": "2021-08-30T14:09:06.368822Z",
     "shell.execute_reply": "2021-08-30T14:09:06.368281Z",
     "shell.execute_reply.started": "2021-08-30T14:03:41.477941Z"
    },
    "papermill": {
     "duration": 0.128829,
     "end_time": "2021-08-30T14:09:06.368965",
     "exception": false,
     "start_time": "2021-08-30T14:09:06.240136",
     "status": "completed"
    },
    "tags": []
   },
   "outputs": [],
   "source": [
    "\n",
    "\n",
    "#Changing date object to datetime \n",
    "X1['Date']=pd.to_datetime(X1['Date'])\n",
    "X1['year']=pd.to_datetime(X1['Date'].dt.year).astype(np.int64)\n",
    "X1['day']=pd.to_datetime(X1['Date'].dt.day).astype(np.int64)\n",
    "\n",
    "#creating DayOfWeek feature\n",
    "X1['dayofweek'] = X1['Date'].dt.dayofweek\n",
    "X1['WeekOfYear'] = X1['Date'].dt.isocalendar().week.astype(np.int64)\n",
    "X1['DayofYear'] = X1['Date'].dt.dayofyear\n",
    "\n",
    "X1['hours_dt'] = pd.to_datetime(X1['Hour'], format='%H')\n",
    "hours_list = [7,8,9,17,18,19,20,21,22]\n",
    "X1['Travelling_time'] = np.where(X1['Hour'].isin(hours_list), 1, 0)\n",
    "\n",
    "\n",
    "lag(X1,features,-1)\n",
    "lag(X1,features,-3)\n",
    "lag(X1,features,-5)\n",
    "lag(X1,features,-7)\n",
    "lag(X1,features,-9)\n",
    "lag(X1,features,-11)\n",
    "lag(X1,features,3)\n",
    "lag(X1,features,1)\n",
    "\n",
    "\n",
    "X1.fillna(0,inplace=True)"
   ]
  },
  {
   "cell_type": "code",
   "execution_count": 13,
   "id": "299efc84",
   "metadata": {
    "execution": {
     "iopub.execute_input": "2021-08-30T14:09:06.452030Z",
     "iopub.status.busy": "2021-08-30T14:09:06.447912Z",
     "iopub.status.idle": "2021-08-30T14:09:06.666158Z",
     "shell.execute_reply": "2021-08-30T14:09:06.665541Z",
     "shell.execute_reply.started": "2021-08-30T14:03:41.562697Z"
    },
    "papermill": {
     "duration": 0.260312,
     "end_time": "2021-08-30T14:09:06.666299",
     "exception": false,
     "start_time": "2021-08-30T14:09:06.405987",
     "status": "completed"
    },
    "tags": []
   },
   "outputs": [
    {
     "data": {
      "text/html": [
       "<div>\n",
       "<style scoped>\n",
       "    .dataframe tbody tr th:only-of-type {\n",
       "        vertical-align: middle;\n",
       "    }\n",
       "\n",
       "    .dataframe tbody tr th {\n",
       "        vertical-align: top;\n",
       "    }\n",
       "\n",
       "    .dataframe thead th {\n",
       "        text-align: right;\n",
       "    }\n",
       "</style>\n",
       "<table border=\"1\" class=\"dataframe\">\n",
       "  <thead>\n",
       "    <tr style=\"text-align: right;\">\n",
       "      <th></th>\n",
       "      <th>Hour</th>\n",
       "      <th>Temperature(�C)</th>\n",
       "      <th>Humidity(%)</th>\n",
       "      <th>Wind speed (m/s)</th>\n",
       "      <th>Visibility (10m)</th>\n",
       "      <th>Dew point temperature(�C)</th>\n",
       "      <th>Solar Radiation (MJ/m2)</th>\n",
       "      <th>Rainfall(mm)</th>\n",
       "      <th>Snowfall (cm)</th>\n",
       "      <th>y_avg_season_hour</th>\n",
       "      <th>...</th>\n",
       "      <th>lag_1_Temperature(�C)</th>\n",
       "      <th>lag_1_Visibility (10m)</th>\n",
       "      <th>lag_1_Solar Radiation (MJ/m2)</th>\n",
       "      <th>lag_1_y_avg_season_hour</th>\n",
       "      <th>lag_1_Humidity(%)</th>\n",
       "      <th>lag_1_Wind speed (m/s)</th>\n",
       "      <th>lag_1_Snowfall (cm)</th>\n",
       "      <th>lag_1_Rainfall(mm)</th>\n",
       "      <th>lag_1_Dew point temperature(�C)</th>\n",
       "      <th>lag_1_weathercluster</th>\n",
       "    </tr>\n",
       "  </thead>\n",
       "  <tbody>\n",
       "    <tr>\n",
       "      <th>count</th>\n",
       "      <td>5760.000000</td>\n",
       "      <td>5760.000000</td>\n",
       "      <td>5760.000000</td>\n",
       "      <td>5760.000000</td>\n",
       "      <td>5760.000000</td>\n",
       "      <td>5760.000000</td>\n",
       "      <td>5760.000000</td>\n",
       "      <td>5760.000000</td>\n",
       "      <td>5760.000000</td>\n",
       "      <td>5760.000000</td>\n",
       "      <td>...</td>\n",
       "      <td>5760.000000</td>\n",
       "      <td>5760.000000</td>\n",
       "      <td>5760.000000</td>\n",
       "      <td>5760.000000</td>\n",
       "      <td>5760.000000</td>\n",
       "      <td>5760.000000</td>\n",
       "      <td>5760.000000</td>\n",
       "      <td>5760.000000</td>\n",
       "      <td>5760.000000</td>\n",
       "      <td>5760.000000</td>\n",
       "    </tr>\n",
       "    <tr>\n",
       "      <th>mean</th>\n",
       "      <td>11.500000</td>\n",
       "      <td>12.803559</td>\n",
       "      <td>58.361806</td>\n",
       "      <td>1.723333</td>\n",
       "      <td>1473.711458</td>\n",
       "      <td>4.058264</td>\n",
       "      <td>0.572325</td>\n",
       "      <td>0.135122</td>\n",
       "      <td>0.046302</td>\n",
       "      <td>703.483854</td>\n",
       "      <td>...</td>\n",
       "      <td>12.801944</td>\n",
       "      <td>1473.397743</td>\n",
       "      <td>0.572325</td>\n",
       "      <td>703.351904</td>\n",
       "      <td>58.354340</td>\n",
       "      <td>1.722726</td>\n",
       "      <td>0.046302</td>\n",
       "      <td>0.135122</td>\n",
       "      <td>4.058715</td>\n",
       "      <td>6.671181</td>\n",
       "    </tr>\n",
       "    <tr>\n",
       "      <th>std</th>\n",
       "      <td>6.922788</td>\n",
       "      <td>11.902206</td>\n",
       "      <td>19.840167</td>\n",
       "      <td>1.047898</td>\n",
       "      <td>585.879880</td>\n",
       "      <td>13.003582</td>\n",
       "      <td>0.869943</td>\n",
       "      <td>1.075320</td>\n",
       "      <td>0.323728</td>\n",
       "      <td>502.743488</td>\n",
       "      <td>...</td>\n",
       "      <td>11.903312</td>\n",
       "      <td>586.185095</td>\n",
       "      <td>0.869943</td>\n",
       "      <td>502.828376</td>\n",
       "      <td>19.854033</td>\n",
       "      <td>1.047883</td>\n",
       "      <td>0.323728</td>\n",
       "      <td>1.075320</td>\n",
       "      <td>13.003396</td>\n",
       "      <td>4.178331</td>\n",
       "    </tr>\n",
       "    <tr>\n",
       "      <th>min</th>\n",
       "      <td>0.000000</td>\n",
       "      <td>-15.100000</td>\n",
       "      <td>0.000000</td>\n",
       "      <td>0.000000</td>\n",
       "      <td>27.000000</td>\n",
       "      <td>-26.900000</td>\n",
       "      <td>0.000000</td>\n",
       "      <td>0.000000</td>\n",
       "      <td>0.000000</td>\n",
       "      <td>49.333333</td>\n",
       "      <td>...</td>\n",
       "      <td>-15.100000</td>\n",
       "      <td>0.000000</td>\n",
       "      <td>0.000000</td>\n",
       "      <td>0.000000</td>\n",
       "      <td>0.000000</td>\n",
       "      <td>0.000000</td>\n",
       "      <td>0.000000</td>\n",
       "      <td>0.000000</td>\n",
       "      <td>-26.900000</td>\n",
       "      <td>0.000000</td>\n",
       "    </tr>\n",
       "    <tr>\n",
       "      <th>25%</th>\n",
       "      <td>5.750000</td>\n",
       "      <td>3.200000</td>\n",
       "      <td>43.000000</td>\n",
       "      <td>0.900000</td>\n",
       "      <td>1025.750000</td>\n",
       "      <td>-5.400000</td>\n",
       "      <td>0.000000</td>\n",
       "      <td>0.000000</td>\n",
       "      <td>0.000000</td>\n",
       "      <td>260.175000</td>\n",
       "      <td>...</td>\n",
       "      <td>3.200000</td>\n",
       "      <td>1025.000000</td>\n",
       "      <td>0.000000</td>\n",
       "      <td>258.300000</td>\n",
       "      <td>43.000000</td>\n",
       "      <td>0.900000</td>\n",
       "      <td>0.000000</td>\n",
       "      <td>0.000000</td>\n",
       "      <td>-5.400000</td>\n",
       "      <td>4.000000</td>\n",
       "    </tr>\n",
       "    <tr>\n",
       "      <th>50%</th>\n",
       "      <td>11.500000</td>\n",
       "      <td>13.700000</td>\n",
       "      <td>57.000000</td>\n",
       "      <td>1.500000</td>\n",
       "      <td>1732.000000</td>\n",
       "      <td>5.200000</td>\n",
       "      <td>0.010000</td>\n",
       "      <td>0.000000</td>\n",
       "      <td>0.000000</td>\n",
       "      <td>653.833333</td>\n",
       "      <td>...</td>\n",
       "      <td>13.700000</td>\n",
       "      <td>1731.500000</td>\n",
       "      <td>0.010000</td>\n",
       "      <td>650.516667</td>\n",
       "      <td>57.000000</td>\n",
       "      <td>1.500000</td>\n",
       "      <td>0.000000</td>\n",
       "      <td>0.000000</td>\n",
       "      <td>5.200000</td>\n",
       "      <td>6.000000</td>\n",
       "    </tr>\n",
       "    <tr>\n",
       "      <th>75%</th>\n",
       "      <td>17.250000</td>\n",
       "      <td>22.225000</td>\n",
       "      <td>73.000000</td>\n",
       "      <td>2.300000</td>\n",
       "      <td>2000.000000</td>\n",
       "      <td>14.700000</td>\n",
       "      <td>0.940000</td>\n",
       "      <td>0.000000</td>\n",
       "      <td>0.000000</td>\n",
       "      <td>958.625000</td>\n",
       "      <td>...</td>\n",
       "      <td>22.225000</td>\n",
       "      <td>2000.000000</td>\n",
       "      <td>0.940000</td>\n",
       "      <td>958.625000</td>\n",
       "      <td>73.000000</td>\n",
       "      <td>2.300000</td>\n",
       "      <td>0.000000</td>\n",
       "      <td>0.000000</td>\n",
       "      <td>14.700000</td>\n",
       "      <td>11.000000</td>\n",
       "    </tr>\n",
       "    <tr>\n",
       "      <th>max</th>\n",
       "      <td>23.000000</td>\n",
       "      <td>39.400000</td>\n",
       "      <td>98.000000</td>\n",
       "      <td>7.400000</td>\n",
       "      <td>2000.000000</td>\n",
       "      <td>27.200000</td>\n",
       "      <td>3.520000</td>\n",
       "      <td>35.000000</td>\n",
       "      <td>5.100000</td>\n",
       "      <td>2265.033333</td>\n",
       "      <td>...</td>\n",
       "      <td>39.400000</td>\n",
       "      <td>2000.000000</td>\n",
       "      <td>3.520000</td>\n",
       "      <td>2265.033333</td>\n",
       "      <td>98.000000</td>\n",
       "      <td>7.400000</td>\n",
       "      <td>5.100000</td>\n",
       "      <td>35.000000</td>\n",
       "      <td>27.200000</td>\n",
       "      <td>13.000000</td>\n",
       "    </tr>\n",
       "  </tbody>\n",
       "</table>\n",
       "<p>8 rows × 106 columns</p>\n",
       "</div>"
      ],
      "text/plain": [
       "              Hour  Temperature(�C)  Humidity(%)  Wind speed (m/s)  \\\n",
       "count  5760.000000      5760.000000  5760.000000       5760.000000   \n",
       "mean     11.500000        12.803559    58.361806          1.723333   \n",
       "std       6.922788        11.902206    19.840167          1.047898   \n",
       "min       0.000000       -15.100000     0.000000          0.000000   \n",
       "25%       5.750000         3.200000    43.000000          0.900000   \n",
       "50%      11.500000        13.700000    57.000000          1.500000   \n",
       "75%      17.250000        22.225000    73.000000          2.300000   \n",
       "max      23.000000        39.400000    98.000000          7.400000   \n",
       "\n",
       "       Visibility (10m)  Dew point temperature(�C)  Solar Radiation (MJ/m2)  \\\n",
       "count       5760.000000                5760.000000              5760.000000   \n",
       "mean        1473.711458                   4.058264                 0.572325   \n",
       "std          585.879880                  13.003582                 0.869943   \n",
       "min           27.000000                 -26.900000                 0.000000   \n",
       "25%         1025.750000                  -5.400000                 0.000000   \n",
       "50%         1732.000000                   5.200000                 0.010000   \n",
       "75%         2000.000000                  14.700000                 0.940000   \n",
       "max         2000.000000                  27.200000                 3.520000   \n",
       "\n",
       "       Rainfall(mm)  Snowfall (cm)  y_avg_season_hour  ...  \\\n",
       "count   5760.000000    5760.000000        5760.000000  ...   \n",
       "mean       0.135122       0.046302         703.483854  ...   \n",
       "std        1.075320       0.323728         502.743488  ...   \n",
       "min        0.000000       0.000000          49.333333  ...   \n",
       "25%        0.000000       0.000000         260.175000  ...   \n",
       "50%        0.000000       0.000000         653.833333  ...   \n",
       "75%        0.000000       0.000000         958.625000  ...   \n",
       "max       35.000000       5.100000        2265.033333  ...   \n",
       "\n",
       "       lag_1_Temperature(�C)  lag_1_Visibility (10m)  \\\n",
       "count            5760.000000             5760.000000   \n",
       "mean               12.801944             1473.397743   \n",
       "std                11.903312              586.185095   \n",
       "min               -15.100000                0.000000   \n",
       "25%                 3.200000             1025.000000   \n",
       "50%                13.700000             1731.500000   \n",
       "75%                22.225000             2000.000000   \n",
       "max                39.400000             2000.000000   \n",
       "\n",
       "       lag_1_Solar Radiation (MJ/m2)  lag_1_y_avg_season_hour  \\\n",
       "count                    5760.000000              5760.000000   \n",
       "mean                        0.572325               703.351904   \n",
       "std                         0.869943               502.828376   \n",
       "min                         0.000000                 0.000000   \n",
       "25%                         0.000000               258.300000   \n",
       "50%                         0.010000               650.516667   \n",
       "75%                         0.940000               958.625000   \n",
       "max                         3.520000              2265.033333   \n",
       "\n",
       "       lag_1_Humidity(%)  lag_1_Wind speed (m/s)  lag_1_Snowfall (cm)  \\\n",
       "count        5760.000000             5760.000000          5760.000000   \n",
       "mean           58.354340                1.722726             0.046302   \n",
       "std            19.854033                1.047883             0.323728   \n",
       "min             0.000000                0.000000             0.000000   \n",
       "25%            43.000000                0.900000             0.000000   \n",
       "50%            57.000000                1.500000             0.000000   \n",
       "75%            73.000000                2.300000             0.000000   \n",
       "max            98.000000                7.400000             5.100000   \n",
       "\n",
       "       lag_1_Rainfall(mm)  lag_1_Dew point temperature(�C)  \\\n",
       "count         5760.000000                      5760.000000   \n",
       "mean             0.135122                         4.058715   \n",
       "std              1.075320                        13.003396   \n",
       "min              0.000000                       -26.900000   \n",
       "25%              0.000000                        -5.400000   \n",
       "50%              0.000000                         5.200000   \n",
       "75%              0.000000                        14.700000   \n",
       "max             35.000000                        27.200000   \n",
       "\n",
       "       lag_1_weathercluster  \n",
       "count           5760.000000  \n",
       "mean               6.671181  \n",
       "std                4.178331  \n",
       "min                0.000000  \n",
       "25%                4.000000  \n",
       "50%                6.000000  \n",
       "75%               11.000000  \n",
       "max               13.000000  \n",
       "\n",
       "[8 rows x 106 columns]"
      ]
     },
     "execution_count": 13,
     "metadata": {},
     "output_type": "execute_result"
    }
   ],
   "source": [
    "X1.describe()\n"
   ]
  },
  {
   "cell_type": "code",
   "execution_count": 14,
   "id": "5bf4f468",
   "metadata": {
    "execution": {
     "iopub.execute_input": "2021-08-30T14:09:06.752693Z",
     "iopub.status.busy": "2021-08-30T14:09:06.750142Z",
     "iopub.status.idle": "2021-08-30T14:09:06.946017Z",
     "shell.execute_reply": "2021-08-30T14:09:06.946441Z",
     "shell.execute_reply.started": "2021-08-30T14:03:41.803031Z"
    },
    "papermill": {
     "duration": 0.242557,
     "end_time": "2021-08-30T14:09:06.946614",
     "exception": false,
     "start_time": "2021-08-30T14:09:06.704057",
     "status": "completed"
    },
    "tags": []
   },
   "outputs": [
    {
     "data": {
      "text/plain": [
       "0                                 1.000000\n",
       "y_avg_season_hour                 0.767255\n",
       "lag_1_y_avg_season_hour           0.700651\n",
       "lag_-1_y_avg_season_hour          0.700603\n",
       "lag_3_Temperature(�C)             0.553687\n",
       "                                    ...   \n",
       "lag_-9_Hour                      -0.249123\n",
       "lag_-9_Wind speed (m/s)          -0.259432\n",
       "lag_-9_Solar Radiation (MJ/m2)   -0.260952\n",
       "lag_-11_Hour                     -0.268907\n",
       "lag_-11_Wind speed (m/s)         -0.301198\n",
       "Name: 0, Length: 107, dtype: float64"
      ]
     },
     "execution_count": 14,
     "metadata": {},
     "output_type": "execute_result"
    }
   ],
   "source": [
    "# Testing the correlation between the features and the target value\n",
    "corr_test=pd.concat([X1,pd.DataFrame(y)],axis=1)\n",
    "corr_test.corr(method='pearson')[0].sort_values(ascending=False)"
   ]
  },
  {
   "cell_type": "code",
   "execution_count": 15,
   "id": "2b70e595",
   "metadata": {
    "execution": {
     "iopub.execute_input": "2021-08-30T14:09:07.025837Z",
     "iopub.status.busy": "2021-08-30T14:09:07.025223Z",
     "iopub.status.idle": "2021-08-30T14:09:07.035819Z",
     "shell.execute_reply": "2021-08-30T14:09:07.035367Z",
     "shell.execute_reply.started": "2021-08-30T14:03:41.998659Z"
    },
    "papermill": {
     "duration": 0.051863,
     "end_time": "2021-08-30T14:09:07.035973",
     "exception": false,
     "start_time": "2021-08-30T14:09:06.984110",
     "status": "completed"
    },
    "tags": []
   },
   "outputs": [
    {
     "data": {
      "text/plain": [
       "Date                               0\n",
       "Hour                               0\n",
       "Temperature(�C)                    0\n",
       "Humidity(%)                        0\n",
       "Wind speed (m/s)                   0\n",
       "                                  ..\n",
       "lag_1_Wind speed (m/s)             0\n",
       "lag_1_Snowfall (cm)                0\n",
       "lag_1_Rainfall(mm)                 0\n",
       "lag_1_Dew point temperature(�C)    0\n",
       "lag_1_weathercluster               0\n",
       "Length: 110, dtype: int64"
      ]
     },
     "execution_count": 15,
     "metadata": {},
     "output_type": "execute_result"
    }
   ],
   "source": [
    "X1.isna().sum()"
   ]
  },
  {
   "cell_type": "markdown",
   "id": "562cfd0a",
   "metadata": {
    "papermill": {
     "duration": 0.037532,
     "end_time": "2021-08-30T14:09:07.113213",
     "exception": false,
     "start_time": "2021-08-30T14:09:07.075681",
     "status": "completed"
    },
    "tags": []
   },
   "source": [
    "# Log Transformation of Skew Variables"
   ]
  },
  {
   "cell_type": "code",
   "execution_count": 16,
   "id": "17b1563d",
   "metadata": {
    "execution": {
     "iopub.execute_input": "2021-08-30T14:09:07.200843Z",
     "iopub.status.busy": "2021-08-30T14:09:07.200220Z",
     "iopub.status.idle": "2021-08-30T14:09:07.218557Z",
     "shell.execute_reply": "2021-08-30T14:09:07.218077Z",
     "shell.execute_reply.started": "2021-08-30T14:03:42.012013Z"
    },
    "papermill": {
     "duration": 0.067188,
     "end_time": "2021-08-30T14:09:07.218697",
     "exception": false,
     "start_time": "2021-08-30T14:09:07.151509",
     "status": "completed"
    },
    "tags": []
   },
   "outputs": [],
   "source": [
    "num_cols=X1.select_dtypes('number').columns\n",
    "skew_limit=0.5\n",
    "skew_vals=X1[num_cols].skew()\n"
   ]
  },
  {
   "cell_type": "code",
   "execution_count": 17,
   "id": "a7b793d8",
   "metadata": {
    "execution": {
     "iopub.execute_input": "2021-08-30T14:09:07.302434Z",
     "iopub.status.busy": "2021-08-30T14:09:07.301522Z",
     "iopub.status.idle": "2021-08-30T14:09:07.306517Z",
     "shell.execute_reply": "2021-08-30T14:09:07.306926Z",
     "shell.execute_reply.started": "2021-08-30T14:03:42.031928Z"
    },
    "papermill": {
     "duration": 0.050372,
     "end_time": "2021-08-30T14:09:07.307089",
     "exception": false,
     "start_time": "2021-08-30T14:09:07.256717",
     "status": "completed"
    },
    "tags": []
   },
   "outputs": [
    {
     "data": {
      "text/plain": [
       "Rainfall(mm)                       15.636451\n",
       "lag_1_Rainfall(mm)                 15.636451\n",
       "lag_-1_Rainfall(mm)                15.636451\n",
       "lag_-3_Rainfall(mm)                15.636451\n",
       "lag_-7_Rainfall(mm)                15.636451\n",
       "lag_-9_Rainfall(mm)                15.636451\n",
       "lag_-5_Rainfall(mm)                15.636451\n",
       "lag_3_Rainfall(mm)                 15.636451\n",
       "lag_-11_Rainfall(mm)               15.636451\n",
       "lag_-1_Snowfall (cm)                8.908511\n",
       "lag_-7_Snowfall (cm)                8.908511\n",
       "lag_-3_Snowfall (cm)                8.908511\n",
       "lag_1_Snowfall (cm)                 8.908511\n",
       "lag_3_Snowfall (cm)                 8.908511\n",
       "lag_-5_Snowfall (cm)                8.908511\n",
       "lag_-9_Snowfall (cm)                8.908511\n",
       "Snowfall (cm)                       8.908511\n",
       "lag_-11_Snowfall (cm)               8.908511\n",
       "lag_-11_Solar Radiation (MJ/m2)     1.485765\n",
       "lag_-1_Solar Radiation (MJ/m2)      1.485600\n",
       "lag_3_Solar Radiation (MJ/m2)       1.485600\n",
       "lag_1_Solar Radiation (MJ/m2)       1.485600\n",
       "lag_-7_Solar Radiation (MJ/m2)      1.485600\n",
       "lag_-5_Solar Radiation (MJ/m2)      1.485600\n",
       "Solar Radiation (MJ/m2)             1.485600\n",
       "lag_-3_Solar Radiation (MJ/m2)      1.485600\n",
       "lag_-9_Solar Radiation (MJ/m2)      1.485598\n",
       "lag_3_Wind speed (m/s)              0.936881\n",
       "lag_1_Wind speed (m/s)              0.936644\n",
       "Wind speed (m/s)                    0.936481\n",
       "lag_-1_Wind speed (m/s)             0.936177\n",
       "lag_-3_Wind speed (m/s)             0.934694\n",
       "lag_-5_Wind speed (m/s)             0.933710\n",
       "lag_-7_Wind speed (m/s)             0.932319\n",
       "lag_-9_Wind speed (m/s)             0.930827\n",
       "lag_-11_Wind speed (m/s)            0.929520\n",
       "lag_3_y_avg_season_hour             0.839816\n",
       "y_avg_season_hour                   0.839353\n",
       "lag_1_y_avg_season_hour             0.839240\n",
       "lag_-1_y_avg_season_hour            0.839079\n",
       "lag_-3_y_avg_season_hour            0.838605\n",
       "lag_-5_y_avg_season_hour            0.838358\n",
       "lag_-7_y_avg_season_hour            0.838077\n",
       "lag_-9_y_avg_season_hour            0.837400\n",
       "lag_-11_y_avg_season_hour           0.836763\n",
       "Travelling_time                     0.516532\n",
       "lag_-11_Visibility (10m)           -0.806487\n",
       "lag_-9_Visibility (10m)            -0.806668\n",
       "lag_-7_Visibility (10m)            -0.806812\n",
       "lag_-5_Visibility (10m)            -0.806945\n",
       "lag_3_Visibility (10m)             -0.807009\n",
       "lag_-3_Visibility (10m)            -0.807066\n",
       "lag_1_Visibility (10m)             -0.807152\n",
       "lag_-1_Visibility (10m)            -0.807176\n",
       "Visibility (10m)                   -0.807226\n",
       "year                               -3.015899\n",
       "Functioning Day                    -4.513896\n",
       "dtype: float64"
      ]
     },
     "execution_count": 17,
     "metadata": {},
     "output_type": "execute_result"
    }
   ],
   "source": [
    "#Showing the skew columns\n",
    "skew_cols=skew_vals[abs(skew_vals)>skew_limit].sort_values(ascending=False)\n",
    "skew_cols"
   ]
  },
  {
   "cell_type": "code",
   "execution_count": 18,
   "id": "6c79e8e9",
   "metadata": {
    "execution": {
     "iopub.execute_input": "2021-08-30T14:09:07.430334Z",
     "iopub.status.busy": "2021-08-30T14:09:07.413799Z",
     "iopub.status.idle": "2021-08-30T14:09:07.731269Z",
     "shell.execute_reply": "2021-08-30T14:09:07.730818Z",
     "shell.execute_reply.started": "2021-08-30T14:03:42.169085Z"
    },
    "papermill": {
     "duration": 0.384699,
     "end_time": "2021-08-30T14:09:07.731406",
     "exception": false,
     "start_time": "2021-08-30T14:09:07.346707",
     "status": "completed"
    },
    "tags": []
   },
   "outputs": [
    {
     "data": {
      "image/png": "[encoded data removed]",
      "text/plain": [
       "<Figure size 720x360 with 2 Axes>"
      ]
     },
     "metadata": {
      "needs_background": "light"
     },
     "output_type": "display_data"
    }
   ],
   "source": [
    "\n",
    "\n",
    "# Let's look at what happens to one of these features when we apply np.log1p visually\n",
    "field='Wind speed (m/s)'\n",
    "\n",
    "#Create two subplots and a figure using matplotlib\n",
    "fig,(ax_before,ax_after)=plt.subplots(1,2,figsize=(10,5))\n",
    "\n",
    "#Create a histogram of the ax_before subplot\n",
    "X1[field].hist(ax=ax_before)\n",
    "\n",
    "#Applying the transformation and create a histogram of the ax_after subplot\n",
    "X1[field].apply(np.log1p).hist(ax=ax_after)\n",
    "\n",
    "#Formating the titles for each subplot\n",
    "ax_before.set(xlabel='value',ylabel='frequenct',title='Before the np.log1p transformation')\n",
    "ax_after.set(xlabel='value',ylabel='frequenct',title='after the np.log1p transformation')\n",
    "fig.suptitle('field {}'.format(field));\n",
    "\n"
   ]
  },
  {
   "cell_type": "code",
   "execution_count": 19,
   "id": "f21cb7a4",
   "metadata": {
    "execution": {
     "iopub.execute_input": "2021-08-30T14:09:07.817755Z",
     "iopub.status.busy": "2021-08-30T14:09:07.817154Z",
     "iopub.status.idle": "2021-08-30T14:09:07.843277Z",
     "shell.execute_reply": "2021-08-30T14:09:07.842725Z",
     "shell.execute_reply.started": "2021-08-30T14:03:42.525369Z"
    },
    "papermill": {
     "duration": 0.070445,
     "end_time": "2021-08-30T14:09:07.843412",
     "exception": false,
     "start_time": "2021-08-30T14:09:07.772967",
     "status": "completed"
    },
    "tags": []
   },
   "outputs": [],
   "source": [
    "# #perform the skew transformations\n",
    "\n",
    "for col in skew_cols.index.values:\n",
    "    if col=='Seasons_Spring'or col=='Seasons_Summer' or col=='Seasons_Winter' or col=='Visibility (10m)':\n",
    "        continue\n",
    "    X1[col]=X1[col].apply(np.log1p)\n",
    "    "
   ]
  },
  {
   "cell_type": "code",
   "execution_count": 20,
   "id": "ec96704c",
   "metadata": {
    "execution": {
     "iopub.execute_input": "2021-08-30T14:09:07.926000Z",
     "iopub.status.busy": "2021-08-30T14:09:07.925325Z",
     "iopub.status.idle": "2021-08-30T14:09:07.946455Z",
     "shell.execute_reply": "2021-08-30T14:09:07.946007Z",
     "shell.execute_reply.started": "2021-08-30T14:03:42.555046Z"
    },
    "papermill": {
     "duration": 0.064396,
     "end_time": "2021-08-30T14:09:07.946591",
     "exception": false,
     "start_time": "2021-08-30T14:09:07.882195",
     "status": "completed"
    },
    "tags": []
   },
   "outputs": [
    {
     "data": {
      "text/plain": [
       "lag_-7_Snowfall (cm)        7.081133\n",
       "lag_-5_Snowfall (cm)        7.081133\n",
       "lag_-11_Snowfall (cm)       7.081133\n",
       "lag_1_Snowfall (cm)         7.081133\n",
       "lag_3_Snowfall (cm)         7.081133\n",
       "                              ...   \n",
       "lag_-7_Visibility (10m)    -2.841555\n",
       "year                       -3.015899\n",
       "lag_-9_Visibility (10m)    -3.087709\n",
       "lag_-11_Visibility (10m)   -3.302125\n",
       "Functioning Day            -4.513896\n",
       "Length: 106, dtype: float64"
      ]
     },
     "execution_count": 20,
     "metadata": {},
     "output_type": "execute_result"
    }
   ],
   "source": [
    "X1.skew().sort_values(ascending=False)\n",
    "\n",
    "#Skewness has dropped significantly after np.log1p transofrmation"
   ]
  },
  {
   "cell_type": "code",
   "execution_count": 21,
   "id": "03959690",
   "metadata": {
    "execution": {
     "iopub.execute_input": "2021-08-30T14:09:08.029023Z",
     "iopub.status.busy": "2021-08-30T14:09:08.028381Z",
     "iopub.status.idle": "2021-08-30T14:09:08.040172Z",
     "shell.execute_reply": "2021-08-30T14:09:08.040675Z",
     "shell.execute_reply.started": "2021-08-30T14:03:42.749377Z"
    },
    "papermill": {
     "duration": 0.055235,
     "end_time": "2021-08-30T14:09:08.040889",
     "exception": false,
     "start_time": "2021-08-30T14:09:07.985654",
     "status": "completed"
    },
    "tags": []
   },
   "outputs": [
    {
     "name": "stdout",
     "output_type": "stream",
     "text": [
      "Date                                0\n",
      "lag_-11_Visibility (10m)            0\n",
      "lag_-11_Temperature(�C)             0\n",
      "lag_-11_Hour                        0\n",
      "lag_-9_weathercluster               0\n",
      "                                   ..\n",
      "lag_-1_Dew point temperature(�C)    0\n",
      "lag_-1_Rainfall(mm)                 0\n",
      "lag_-1_Snowfall (cm)                0\n",
      "lag_-3_Snowfall (cm)                0\n",
      "lag_1_weathercluster                0\n",
      "Length: 110, dtype: int64\n"
     ]
    }
   ],
   "source": [
    "#Now check for Null Values \n",
    "print(X1.isnull().sum().sort_values())\n",
    "X2=X1.copy()\n"
   ]
  },
  {
   "cell_type": "code",
   "execution_count": 22,
   "id": "08cd2f12",
   "metadata": {
    "execution": {
     "iopub.execute_input": "2021-08-30T14:09:08.126567Z",
     "iopub.status.busy": "2021-08-30T14:09:08.125989Z",
     "iopub.status.idle": "2021-08-30T14:09:08.138123Z",
     "shell.execute_reply": "2021-08-30T14:09:08.137561Z",
     "shell.execute_reply.started": "2021-08-30T14:03:42.967202Z"
    },
    "papermill": {
     "duration": 0.056087,
     "end_time": "2021-08-30T14:09:08.138256",
     "exception": false,
     "start_time": "2021-08-30T14:09:08.082169",
     "status": "completed"
    },
    "tags": []
   },
   "outputs": [],
   "source": [
    "X2_pairplot=pd.concat([X2,pd.DataFrame(y)],axis=1)\n",
    "\n",
    "\n"
   ]
  },
  {
   "cell_type": "code",
   "execution_count": 23,
   "id": "75c03541",
   "metadata": {
    "execution": {
     "iopub.execute_input": "2021-08-30T14:09:08.224917Z",
     "iopub.status.busy": "2021-08-30T14:09:08.221495Z",
     "iopub.status.idle": "2021-08-30T14:09:08.249932Z",
     "shell.execute_reply": "2021-08-30T14:09:08.250355Z",
     "shell.execute_reply.started": "2021-08-30T14:03:43.183775Z"
    },
    "papermill": {
     "duration": 0.073004,
     "end_time": "2021-08-30T14:09:08.250523",
     "exception": false,
     "start_time": "2021-08-30T14:09:08.177519",
     "status": "completed"
    },
    "tags": []
   },
   "outputs": [
    {
     "data": {
      "text/html": [
       "<div>\n",
       "<style scoped>\n",
       "    .dataframe tbody tr th:only-of-type {\n",
       "        vertical-align: middle;\n",
       "    }\n",
       "\n",
       "    .dataframe tbody tr th {\n",
       "        vertical-align: top;\n",
       "    }\n",
       "\n",
       "    .dataframe thead th {\n",
       "        text-align: right;\n",
       "    }\n",
       "</style>\n",
       "<table border=\"1\" class=\"dataframe\">\n",
       "  <thead>\n",
       "    <tr style=\"text-align: right;\">\n",
       "      <th></th>\n",
       "      <th>Date</th>\n",
       "      <th>Hour</th>\n",
       "      <th>Temperature(�C)</th>\n",
       "      <th>Humidity(%)</th>\n",
       "      <th>Wind speed (m/s)</th>\n",
       "      <th>Visibility (10m)</th>\n",
       "      <th>Dew point temperature(�C)</th>\n",
       "      <th>Solar Radiation (MJ/m2)</th>\n",
       "      <th>Rainfall(mm)</th>\n",
       "      <th>Snowfall (cm)</th>\n",
       "      <th>...</th>\n",
       "      <th>lag_1_Visibility (10m)</th>\n",
       "      <th>lag_1_Solar Radiation (MJ/m2)</th>\n",
       "      <th>lag_1_y_avg_season_hour</th>\n",
       "      <th>lag_1_Humidity(%)</th>\n",
       "      <th>lag_1_Wind speed (m/s)</th>\n",
       "      <th>lag_1_Snowfall (cm)</th>\n",
       "      <th>lag_1_Rainfall(mm)</th>\n",
       "      <th>lag_1_Dew point temperature(�C)</th>\n",
       "      <th>lag_1_weathercluster</th>\n",
       "      <th>0</th>\n",
       "    </tr>\n",
       "  </thead>\n",
       "  <tbody>\n",
       "    <tr>\n",
       "      <th>0</th>\n",
       "      <td>2017-01-12</td>\n",
       "      <td>0</td>\n",
       "      <td>-5.2</td>\n",
       "      <td>37</td>\n",
       "      <td>1.163151</td>\n",
       "      <td>2000</td>\n",
       "      <td>-17.6</td>\n",
       "      <td>0.0</td>\n",
       "      <td>0.0</td>\n",
       "      <td>0.0</td>\n",
       "      <td>...</td>\n",
       "      <td>0.000000</td>\n",
       "      <td>0.0</td>\n",
       "      <td>0.000000</td>\n",
       "      <td>0.0</td>\n",
       "      <td>0.000000</td>\n",
       "      <td>0.0</td>\n",
       "      <td>0.0</td>\n",
       "      <td>0.0</td>\n",
       "      <td>0.0</td>\n",
       "      <td>254</td>\n",
       "    </tr>\n",
       "    <tr>\n",
       "      <th>1</th>\n",
       "      <td>2017-01-12</td>\n",
       "      <td>1</td>\n",
       "      <td>-5.5</td>\n",
       "      <td>38</td>\n",
       "      <td>0.587787</td>\n",
       "      <td>2000</td>\n",
       "      <td>-17.6</td>\n",
       "      <td>0.0</td>\n",
       "      <td>0.0</td>\n",
       "      <td>0.0</td>\n",
       "      <td>...</td>\n",
       "      <td>7.601402</td>\n",
       "      <td>0.0</td>\n",
       "      <td>5.140786</td>\n",
       "      <td>37.0</td>\n",
       "      <td>1.163151</td>\n",
       "      <td>0.0</td>\n",
       "      <td>0.0</td>\n",
       "      <td>-17.6</td>\n",
       "      <td>13.0</td>\n",
       "      <td>204</td>\n",
       "    </tr>\n",
       "    <tr>\n",
       "      <th>2</th>\n",
       "      <td>2017-01-12</td>\n",
       "      <td>2</td>\n",
       "      <td>-6.0</td>\n",
       "      <td>39</td>\n",
       "      <td>0.693147</td>\n",
       "      <td>2000</td>\n",
       "      <td>-17.7</td>\n",
       "      <td>0.0</td>\n",
       "      <td>0.0</td>\n",
       "      <td>0.0</td>\n",
       "      <td>...</td>\n",
       "      <td>7.601402</td>\n",
       "      <td>0.0</td>\n",
       "      <td>5.083576</td>\n",
       "      <td>38.0</td>\n",
       "      <td>0.587787</td>\n",
       "      <td>0.0</td>\n",
       "      <td>0.0</td>\n",
       "      <td>-17.6</td>\n",
       "      <td>5.0</td>\n",
       "      <td>173</td>\n",
       "    </tr>\n",
       "    <tr>\n",
       "      <th>3</th>\n",
       "      <td>2017-01-12</td>\n",
       "      <td>3</td>\n",
       "      <td>-6.2</td>\n",
       "      <td>40</td>\n",
       "      <td>0.641854</td>\n",
       "      <td>2000</td>\n",
       "      <td>-17.6</td>\n",
       "      <td>0.0</td>\n",
       "      <td>0.0</td>\n",
       "      <td>0.0</td>\n",
       "      <td>...</td>\n",
       "      <td>7.601402</td>\n",
       "      <td>0.0</td>\n",
       "      <td>4.784013</td>\n",
       "      <td>39.0</td>\n",
       "      <td>0.693147</td>\n",
       "      <td>0.0</td>\n",
       "      <td>0.0</td>\n",
       "      <td>-17.7</td>\n",
       "      <td>5.0</td>\n",
       "      <td>107</td>\n",
       "    </tr>\n",
       "    <tr>\n",
       "      <th>4</th>\n",
       "      <td>2017-01-12</td>\n",
       "      <td>4</td>\n",
       "      <td>-6.0</td>\n",
       "      <td>36</td>\n",
       "      <td>1.193922</td>\n",
       "      <td>2000</td>\n",
       "      <td>-18.6</td>\n",
       "      <td>0.0</td>\n",
       "      <td>0.0</td>\n",
       "      <td>0.0</td>\n",
       "      <td>...</td>\n",
       "      <td>7.601402</td>\n",
       "      <td>0.0</td>\n",
       "      <td>4.344238</td>\n",
       "      <td>40.0</td>\n",
       "      <td>0.641854</td>\n",
       "      <td>0.0</td>\n",
       "      <td>0.0</td>\n",
       "      <td>-17.6</td>\n",
       "      <td>5.0</td>\n",
       "      <td>78</td>\n",
       "    </tr>\n",
       "  </tbody>\n",
       "</table>\n",
       "<p>5 rows × 111 columns</p>\n",
       "</div>"
      ],
      "text/plain": [
       "        Date  Hour  Temperature(�C)  Humidity(%)  Wind speed (m/s)  \\\n",
       "0 2017-01-12     0             -5.2           37          1.163151   \n",
       "1 2017-01-12     1             -5.5           38          0.587787   \n",
       "2 2017-01-12     2             -6.0           39          0.693147   \n",
       "3 2017-01-12     3             -6.2           40          0.641854   \n",
       "4 2017-01-12     4             -6.0           36          1.193922   \n",
       "\n",
       "   Visibility (10m)  Dew point temperature(�C)  Solar Radiation (MJ/m2)  \\\n",
       "0              2000                      -17.6                      0.0   \n",
       "1              2000                      -17.6                      0.0   \n",
       "2              2000                      -17.7                      0.0   \n",
       "3              2000                      -17.6                      0.0   \n",
       "4              2000                      -18.6                      0.0   \n",
       "\n",
       "   Rainfall(mm)  Snowfall (cm)  ... lag_1_Visibility (10m)  \\\n",
       "0           0.0            0.0  ...               0.000000   \n",
       "1           0.0            0.0  ...               7.601402   \n",
       "2           0.0            0.0  ...               7.601402   \n",
       "3           0.0            0.0  ...               7.601402   \n",
       "4           0.0            0.0  ...               7.601402   \n",
       "\n",
       "  lag_1_Solar Radiation (MJ/m2)  lag_1_y_avg_season_hour  lag_1_Humidity(%)  \\\n",
       "0                           0.0                 0.000000                0.0   \n",
       "1                           0.0                 5.140786               37.0   \n",
       "2                           0.0                 5.083576               38.0   \n",
       "3                           0.0                 4.784013               39.0   \n",
       "4                           0.0                 4.344238               40.0   \n",
       "\n",
       "   lag_1_Wind speed (m/s)  lag_1_Snowfall (cm)  lag_1_Rainfall(mm)  \\\n",
       "0                0.000000                  0.0                 0.0   \n",
       "1                1.163151                  0.0                 0.0   \n",
       "2                0.587787                  0.0                 0.0   \n",
       "3                0.693147                  0.0                 0.0   \n",
       "4                0.641854                  0.0                 0.0   \n",
       "\n",
       "   lag_1_Dew point temperature(�C)  lag_1_weathercluster    0  \n",
       "0                              0.0                   0.0  254  \n",
       "1                            -17.6                  13.0  204  \n",
       "2                            -17.6                   5.0  173  \n",
       "3                            -17.7                   5.0  107  \n",
       "4                            -17.6                   5.0   78  \n",
       "\n",
       "[5 rows x 111 columns]"
      ]
     },
     "execution_count": 23,
     "metadata": {},
     "output_type": "execute_result"
    }
   ],
   "source": [
    "X2_pairplot.head()"
   ]
  },
  {
   "cell_type": "code",
   "execution_count": 24,
   "id": "d88f4ef0",
   "metadata": {
    "execution": {
     "iopub.execute_input": "2021-08-30T14:09:08.334855Z",
     "iopub.status.busy": "2021-08-30T14:09:08.334279Z",
     "iopub.status.idle": "2021-08-30T14:09:08.337168Z",
     "shell.execute_reply": "2021-08-30T14:09:08.337551Z",
     "shell.execute_reply.started": "2021-08-30T14:03:43.386155Z"
    },
    "papermill": {
     "duration": 0.047067,
     "end_time": "2021-08-30T14:09:08.337716",
     "exception": false,
     "start_time": "2021-08-30T14:09:08.290649",
     "status": "completed"
    },
    "tags": []
   },
   "outputs": [],
   "source": [
    "ordinal_vals = {'Winter':1,'Spring':2,'Autumn':3,'Summer':4,'No Holiday':0,'Holiday':1}\n",
    "# ordinal_wof = {25:45,29:44,34:43,42:42,33:41,24:40,28:39,32:38,23:37,49:36,41:35,16:34,45:33,27:32,36:31,20:30,19:29,14:28,46:27,47:26,10:25,2:24,6:23,37:22,15:21,11:20,18:19,1:18,40:17,38:16,9:15,5:14,31:13,12:12,50:11,8:10,22:9,3:8,13:7,35:6,26:5,44:4,7:3,48:2,51:1}"
   ]
  },
  {
   "cell_type": "code",
   "execution_count": 25,
   "id": "78dc0cca",
   "metadata": {
    "execution": {
     "iopub.execute_input": "2021-08-30T14:09:08.421981Z",
     "iopub.status.busy": "2021-08-30T14:09:08.421394Z",
     "iopub.status.idle": "2021-08-30T14:09:08.432735Z",
     "shell.execute_reply": "2021-08-30T14:09:08.433218Z",
     "shell.execute_reply.started": "2021-08-30T14:03:43.618247Z"
    },
    "papermill": {
     "duration": 0.055735,
     "end_time": "2021-08-30T14:09:08.433384",
     "exception": false,
     "start_time": "2021-08-30T14:09:08.377649",
     "status": "completed"
    },
    "tags": []
   },
   "outputs": [],
   "source": [
    "X2 = X2.replace(ordinal_vals)\n",
    "# X2['SortedWeekOfYear'] = X2['WeekOfYear'].replace(ordinal_wof)"
   ]
  },
  {
   "cell_type": "code",
   "execution_count": 26,
   "id": "e4ee5d84",
   "metadata": {
    "execution": {
     "iopub.execute_input": "2021-08-30T14:09:08.515666Z",
     "iopub.status.busy": "2021-08-30T14:09:08.515131Z",
     "iopub.status.idle": "2021-08-30T14:09:08.519561Z",
     "shell.execute_reply": "2021-08-30T14:09:08.520037Z",
     "shell.execute_reply.started": "2021-08-30T14:03:43.857004Z"
    },
    "papermill": {
     "duration": 0.04691,
     "end_time": "2021-08-30T14:09:08.520195",
     "exception": false,
     "start_time": "2021-08-30T14:09:08.473285",
     "status": "completed"
    },
    "tags": []
   },
   "outputs": [],
   "source": [
    "X2['Humidity(%)'] = np.where(X2['Humidity(%)']==0, 57, X2['Humidity(%)'])"
   ]
  },
  {
   "cell_type": "code",
   "execution_count": 27,
   "id": "847909ee",
   "metadata": {
    "execution": {
     "iopub.execute_input": "2021-08-30T14:09:08.603420Z",
     "iopub.status.busy": "2021-08-30T14:09:08.602744Z",
     "iopub.status.idle": "2021-08-30T14:09:08.620252Z",
     "shell.execute_reply": "2021-08-30T14:09:08.619638Z",
     "shell.execute_reply.started": "2021-08-30T14:03:44.098154Z"
    },
    "papermill": {
     "duration": 0.059719,
     "end_time": "2021-08-30T14:09:08.620385",
     "exception": false,
     "start_time": "2021-08-30T14:09:08.560666",
     "status": "completed"
    },
    "tags": []
   },
   "outputs": [
    {
     "name": "stdout",
     "output_type": "stream",
     "text": [
      "<class 'pandas.core.frame.DataFrame'>\n",
      "RangeIndex: 5760 entries, 0 to 5759\n",
      "Columns: 110 entries, Date to lag_1_weathercluster\n",
      "dtypes: datetime64[ns](2), float64(98), int32(1), int64(9)\n",
      "memory usage: 4.8 MB\n"
     ]
    }
   ],
   "source": [
    "X2.info()"
   ]
  },
  {
   "cell_type": "code",
   "execution_count": 28,
   "id": "ecde12f1",
   "metadata": {
    "execution": {
     "iopub.execute_input": "2021-08-30T14:09:08.713154Z",
     "iopub.status.busy": "2021-08-30T14:09:08.709471Z",
     "iopub.status.idle": "2021-08-30T14:09:08.728549Z",
     "shell.execute_reply": "2021-08-30T14:09:08.728991Z",
     "shell.execute_reply.started": "2021-08-30T14:03:44.483046Z"
    },
    "papermill": {
     "duration": 0.068026,
     "end_time": "2021-08-30T14:09:08.729164",
     "exception": false,
     "start_time": "2021-08-30T14:09:08.661138",
     "status": "completed"
    },
    "tags": []
   },
   "outputs": [
    {
     "name": "stdout",
     "output_type": "stream",
     "text": [
      "<class 'pandas.core.frame.DataFrame'>\n",
      "Int64Index: 4032 entries, 3169 to 860\n",
      "Columns: 106 entries, Hour to lag_1_weathercluster\n",
      "dtypes: float64(96), int32(1), int64(9)\n",
      "memory usage: 3.3 MB\n"
     ]
    }
   ],
   "source": [
    "X2.drop(['Date','hours_dt','Dew point temperature(�C)','Snowfall (cm)'], axis=1,inplace=True)\n",
    "\n",
    "y_log=np.log1p(y)\n",
    "X_train, X_eval, y_train, y_eval=train_test_split(X2, y_log, test_size=0.3, random_state=42)\n",
    "\n",
    "X_train.info()"
   ]
  },
  {
   "cell_type": "code",
   "execution_count": 29,
   "id": "83b89a43",
   "metadata": {
    "execution": {
     "iopub.execute_input": "2021-08-30T14:09:08.820521Z",
     "iopub.status.busy": "2021-08-30T14:09:08.819917Z",
     "iopub.status.idle": "2021-08-30T14:09:29.140283Z",
     "shell.execute_reply": "2021-08-30T14:09:29.140726Z",
     "shell.execute_reply.started": "2021-08-30T14:08:11.357762Z"
    },
    "papermill": {
     "duration": 20.370019,
     "end_time": "2021-08-30T14:09:29.140925",
     "exception": false,
     "start_time": "2021-08-30T14:09:08.770906",
     "status": "completed"
    },
    "tags": []
   },
   "outputs": [
    {
     "name": "stdout",
     "output_type": "stream",
     "text": [
      "[14:09:08] WARNING: ../src/objective/regression_obj.cu:171: reg:linear is now deprecated in favor of reg:squarederror.\n",
      "[14:09:08] WARNING: ../src/learner.cc:573: \n",
      "Parameters: { \"silent\" } might not be used.\n",
      "\n",
      "  This may not be accurate due to some parameters are only used in language bindings but\n",
      "  passed down to XGBoost core.  Or some parameters are not used but slip through this\n",
      "  verification. Please open an issue if you find above cases.\n",
      "\n",
      "\n",
      "0.998112138380374\n",
      "0.07643771031351976\n"
     ]
    }
   ],
   "source": [
    "xgb_best = xgboost.XGBRegressor(colsample_bytree= 0.7,\n",
    " learning_rate=0.04,\n",
    " max_depth= 4,\n",
    " min_child_weight= 0.4,\n",
    " n_estimators= 2000,\n",
    " nthread= 4,\n",
    " objective= 'reg:linear',\n",
    " silent=1,\n",
    " subsample=0.7)\n",
    "xgb_best.fit(X2,y_log)\n",
    "pred = xgb_best.predict(X_eval)\n",
    "print(r2_score(y_eval,pred))\n",
    "print(np.sqrt(metrics.mean_squared_error(y_eval,pred)))\n",
    "\n"
   ]
  },
  {
   "cell_type": "markdown",
   "id": "2d40b3b1",
   "metadata": {
    "papermill": {
     "duration": 0.041464,
     "end_time": "2021-08-30T14:09:29.224035",
     "exception": false,
     "start_time": "2021-08-30T14:09:29.182571",
     "status": "completed"
    },
    "tags": []
   },
   "source": [
    "# Handeling the Test Data"
   ]
  },
  {
   "cell_type": "code",
   "execution_count": 30,
   "id": "336efead",
   "metadata": {
    "_kg_hide-input": true,
    "execution": {
     "iopub.execute_input": "2021-08-30T14:09:29.309614Z",
     "iopub.status.busy": "2021-08-30T14:09:29.309047Z",
     "iopub.status.idle": "2021-08-30T14:09:29.338710Z",
     "shell.execute_reply": "2021-08-30T14:09:29.338172Z",
     "shell.execute_reply.started": "2021-08-30T14:04:13.792848Z"
    },
    "papermill": {
     "duration": 0.074144,
     "end_time": "2021-08-30T14:09:29.338855",
     "exception": false,
     "start_time": "2021-08-30T14:09:29.264711",
     "status": "completed"
    },
    "tags": []
   },
   "outputs": [
    {
     "data": {
      "text/html": [
       "<div>\n",
       "<style scoped>\n",
       "    .dataframe tbody tr th:only-of-type {\n",
       "        vertical-align: middle;\n",
       "    }\n",
       "\n",
       "    .dataframe tbody tr th {\n",
       "        vertical-align: top;\n",
       "    }\n",
       "\n",
       "    .dataframe thead th {\n",
       "        text-align: right;\n",
       "    }\n",
       "</style>\n",
       "<table border=\"1\" class=\"dataframe\">\n",
       "  <thead>\n",
       "    <tr style=\"text-align: right;\">\n",
       "      <th></th>\n",
       "      <th>ID</th>\n",
       "      <th>Date</th>\n",
       "      <th>Hour</th>\n",
       "      <th>Temperature(�C)</th>\n",
       "      <th>Humidity(%)</th>\n",
       "      <th>Wind speed (m/s)</th>\n",
       "      <th>Visibility (10m)</th>\n",
       "      <th>Dew point temperature(�C)</th>\n",
       "      <th>Solar Radiation (MJ/m2)</th>\n",
       "      <th>Rainfall(mm)</th>\n",
       "      <th>Snowfall (cm)</th>\n",
       "      <th>Seasons</th>\n",
       "      <th>Holiday</th>\n",
       "      <th>Functioning Day</th>\n",
       "    </tr>\n",
       "  </thead>\n",
       "  <tbody>\n",
       "    <tr>\n",
       "      <th>0</th>\n",
       "      <td>5760</td>\n",
       "      <td>21/12/2017</td>\n",
       "      <td>0</td>\n",
       "      <td>-1.3</td>\n",
       "      <td>90</td>\n",
       "      <td>2.0</td>\n",
       "      <td>259</td>\n",
       "      <td>-2.7</td>\n",
       "      <td>0.0</td>\n",
       "      <td>0.0</td>\n",
       "      <td>2.2</td>\n",
       "      <td>Winter</td>\n",
       "      <td>No Holiday</td>\n",
       "      <td>Yes</td>\n",
       "    </tr>\n",
       "    <tr>\n",
       "      <th>1</th>\n",
       "      <td>5761</td>\n",
       "      <td>21/12/2017</td>\n",
       "      <td>1</td>\n",
       "      <td>-1.8</td>\n",
       "      <td>90</td>\n",
       "      <td>1.6</td>\n",
       "      <td>263</td>\n",
       "      <td>-3.2</td>\n",
       "      <td>0.0</td>\n",
       "      <td>0.0</td>\n",
       "      <td>2.2</td>\n",
       "      <td>Winter</td>\n",
       "      <td>No Holiday</td>\n",
       "      <td>Yes</td>\n",
       "    </tr>\n",
       "    <tr>\n",
       "      <th>2</th>\n",
       "      <td>5762</td>\n",
       "      <td>21/12/2017</td>\n",
       "      <td>2</td>\n",
       "      <td>-2.2</td>\n",
       "      <td>88</td>\n",
       "      <td>1.4</td>\n",
       "      <td>348</td>\n",
       "      <td>-3.9</td>\n",
       "      <td>0.0</td>\n",
       "      <td>0.0</td>\n",
       "      <td>2.2</td>\n",
       "      <td>Winter</td>\n",
       "      <td>No Holiday</td>\n",
       "      <td>Yes</td>\n",
       "    </tr>\n",
       "    <tr>\n",
       "      <th>3</th>\n",
       "      <td>5763</td>\n",
       "      <td>21/12/2017</td>\n",
       "      <td>3</td>\n",
       "      <td>-2.9</td>\n",
       "      <td>89</td>\n",
       "      <td>1.3</td>\n",
       "      <td>288</td>\n",
       "      <td>-4.4</td>\n",
       "      <td>0.0</td>\n",
       "      <td>0.0</td>\n",
       "      <td>2.2</td>\n",
       "      <td>Winter</td>\n",
       "      <td>No Holiday</td>\n",
       "      <td>Yes</td>\n",
       "    </tr>\n",
       "    <tr>\n",
       "      <th>4</th>\n",
       "      <td>5764</td>\n",
       "      <td>21/12/2017</td>\n",
       "      <td>4</td>\n",
       "      <td>-3.6</td>\n",
       "      <td>91</td>\n",
       "      <td>1.2</td>\n",
       "      <td>241</td>\n",
       "      <td>-4.8</td>\n",
       "      <td>0.0</td>\n",
       "      <td>0.0</td>\n",
       "      <td>2.2</td>\n",
       "      <td>Winter</td>\n",
       "      <td>No Holiday</td>\n",
       "      <td>Yes</td>\n",
       "    </tr>\n",
       "  </tbody>\n",
       "</table>\n",
       "</div>"
      ],
      "text/plain": [
       "     ID        Date  Hour  Temperature(�C)  Humidity(%)  Wind speed (m/s)  \\\n",
       "0  5760  21/12/2017     0             -1.3           90               2.0   \n",
       "1  5761  21/12/2017     1             -1.8           90               1.6   \n",
       "2  5762  21/12/2017     2             -2.2           88               1.4   \n",
       "3  5763  21/12/2017     3             -2.9           89               1.3   \n",
       "4  5764  21/12/2017     4             -3.6           91               1.2   \n",
       "\n",
       "   Visibility (10m)  Dew point temperature(�C)  Solar Radiation (MJ/m2)  \\\n",
       "0               259                       -2.7                      0.0   \n",
       "1               263                       -3.2                      0.0   \n",
       "2               348                       -3.9                      0.0   \n",
       "3               288                       -4.4                      0.0   \n",
       "4               241                       -4.8                      0.0   \n",
       "\n",
       "   Rainfall(mm)  Snowfall (cm) Seasons     Holiday Functioning Day  \n",
       "0           0.0            2.2  Winter  No Holiday             Yes  \n",
       "1           0.0            2.2  Winter  No Holiday             Yes  \n",
       "2           0.0            2.2  Winter  No Holiday             Yes  \n",
       "3           0.0            2.2  Winter  No Holiday             Yes  \n",
       "4           0.0            2.2  Winter  No Holiday             Yes  "
      ]
     },
     "execution_count": 30,
     "metadata": {},
     "output_type": "execute_result"
    }
   ],
   "source": [
    "df_test=pd.read_csv('../input/seoul-bike-rental-ai-pro-iti/test.csv')\n",
    "df_test.head()\n"
   ]
  },
  {
   "cell_type": "code",
   "execution_count": 31,
   "id": "867d2e20",
   "metadata": {
    "execution": {
     "iopub.execute_input": "2021-08-30T14:09:29.428766Z",
     "iopub.status.busy": "2021-08-30T14:09:29.428203Z",
     "iopub.status.idle": "2021-08-30T14:09:29.439923Z",
     "shell.execute_reply": "2021-08-30T14:09:29.440461Z",
     "shell.execute_reply.started": "2021-08-30T14:04:16.306156Z"
    },
    "papermill": {
     "duration": 0.060414,
     "end_time": "2021-08-30T14:09:29.440649",
     "exception": false,
     "start_time": "2021-08-30T14:09:29.380235",
     "status": "completed"
    },
    "tags": []
   },
   "outputs": [],
   "source": [
    "df_test['weathercluster'] = model.predict(StandardScaler().fit_transform(df_test[cluster_list]))"
   ]
  },
  {
   "cell_type": "code",
   "execution_count": 32,
   "id": "bad18d21",
   "metadata": {
    "execution": {
     "iopub.execute_input": "2021-08-30T14:09:29.564362Z",
     "iopub.status.busy": "2021-08-30T14:09:29.563672Z",
     "iopub.status.idle": "2021-08-30T14:09:29.585798Z",
     "shell.execute_reply": "2021-08-30T14:09:29.586336Z",
     "shell.execute_reply.started": "2021-08-30T14:04:16.480399Z"
    },
    "papermill": {
     "duration": 0.092469,
     "end_time": "2021-08-30T14:09:29.586520",
     "exception": false,
     "start_time": "2021-08-30T14:09:29.494051",
     "status": "completed"
    },
    "tags": []
   },
   "outputs": [],
   "source": [
    "merged_test_df=pd.merge(df_test,y_Hour_autumn_df,on=['Seasons','Hour'],how='left')\n",
    "merged_test_df=pd.merge(merged_test_df,y_Hour_spring_df,on=['Seasons','Hour'],how='left')\n",
    "merged_test_df=pd.merge(merged_test_df,y_Hour_summer_df,on=['Seasons','Hour'],how='left')\n",
    "merged_test_df=pd.merge(merged_test_df,y_Hour_winter_df,on=['Seasons','Hour'],how='left')\n",
    "########################################################\n",
    "merged_test_df = merged_test_df.fillna(0)\n",
    "##################################\n",
    "merged_test_df['y_avg_season_hour'] = merged_test_df['y_avg_autumn_hour']+ merged_test_df['y_avg_spring_hour'] +merged_test_df['y_avg_summer_hour'] +merged_test_df['y_avg_winter_hour']\n",
    "df_test['y_avg_season_hour'] = merged_test_df['y_avg_season_hour']"
   ]
  },
  {
   "cell_type": "code",
   "execution_count": 33,
   "id": "a8127035",
   "metadata": {
    "execution": {
     "iopub.execute_input": "2021-08-30T14:09:29.709064Z",
     "iopub.status.busy": "2021-08-30T14:09:29.708354Z",
     "iopub.status.idle": "2021-08-30T14:09:29.714602Z",
     "shell.execute_reply": "2021-08-30T14:09:29.715700Z",
     "shell.execute_reply.started": "2021-08-30T14:04:16.671450Z"
    },
    "papermill": {
     "duration": 0.076084,
     "end_time": "2021-08-30T14:09:29.715917",
     "exception": false,
     "start_time": "2021-08-30T14:09:29.639833",
     "status": "completed"
    },
    "tags": []
   },
   "outputs": [
    {
     "name": "stdout",
     "output_type": "stream",
     "text": [
      "<class 'pandas.core.frame.DataFrame'>\n",
      "RangeIndex: 3000 entries, 0 to 2999\n",
      "Data columns (total 15 columns):\n",
      " #   Column                     Non-Null Count  Dtype  \n",
      "---  ------                     --------------  -----  \n",
      " 0   Date                       3000 non-null   object \n",
      " 1   Hour                       3000 non-null   int64  \n",
      " 2   Temperature(�C)            3000 non-null   float64\n",
      " 3   Humidity(%)                3000 non-null   int64  \n",
      " 4   Wind speed (m/s)           3000 non-null   float64\n",
      " 5   Visibility (10m)           3000 non-null   int64  \n",
      " 6   Dew point temperature(�C)  3000 non-null   float64\n",
      " 7   Solar Radiation (MJ/m2)    3000 non-null   float64\n",
      " 8   Rainfall(mm)               3000 non-null   float64\n",
      " 9   Snowfall (cm)              3000 non-null   float64\n",
      " 10  Seasons                    3000 non-null   object \n",
      " 11  Holiday                    3000 non-null   object \n",
      " 12  Functioning Day            3000 non-null   object \n",
      " 13  weathercluster             3000 non-null   int32  \n",
      " 14  y_avg_season_hour          3000 non-null   float64\n",
      "dtypes: float64(7), int32(1), int64(3), object(4)\n",
      "memory usage: 340.0+ KB\n"
     ]
    }
   ],
   "source": [
    "X_test=df_test.drop(['ID'], axis=1)\n",
    "X_test.info()"
   ]
  },
  {
   "cell_type": "code",
   "execution_count": 34,
   "id": "32537e57",
   "metadata": {
    "execution": {
     "iopub.execute_input": "2021-08-30T14:09:29.826783Z",
     "iopub.status.busy": "2021-08-30T14:09:29.826132Z",
     "iopub.status.idle": "2021-08-30T14:09:29.828043Z",
     "shell.execute_reply": "2021-08-30T14:09:29.828579Z",
     "shell.execute_reply.started": "2021-08-30T14:04:16.861041Z"
    },
    "papermill": {
     "duration": 0.059941,
     "end_time": "2021-08-30T14:09:29.828739",
     "exception": false,
     "start_time": "2021-08-30T14:09:29.768798",
     "status": "completed"
    },
    "tags": []
   },
   "outputs": [],
   "source": [
    "def lag(data,features, shift):\n",
    "    for feature in features:\n",
    "        data['lag_'+str(shift)+'_'+feature] = data[feature].shift(shift)"
   ]
  },
  {
   "cell_type": "code",
   "execution_count": 35,
   "id": "50377fc5",
   "metadata": {
    "execution": {
     "iopub.execute_input": "2021-08-30T14:09:29.914759Z",
     "iopub.status.busy": "2021-08-30T14:09:29.914206Z",
     "iopub.status.idle": "2021-08-30T14:09:29.963797Z",
     "shell.execute_reply": "2021-08-30T14:09:29.964323Z",
     "shell.execute_reply.started": "2021-08-30T14:04:17.032266Z"
    },
    "papermill": {
     "duration": 0.093607,
     "end_time": "2021-08-30T14:09:29.964489",
     "exception": false,
     "start_time": "2021-08-30T14:09:29.870882",
     "status": "completed"
    },
    "tags": []
   },
   "outputs": [],
   "source": [
    "lag(X_test,features,-1)\n",
    "lag(X_test,features,-3)\n",
    "lag(X_test,features,-5)\n",
    "lag(X_test,features,-7)\n",
    "lag(X_test,features,-9)\n",
    "lag(X_test,features,-11)\n",
    "lag(X_test,features,3)\n",
    "lag(X_test,features,1)\n",
    "\n",
    "\n",
    "\n"
   ]
  },
  {
   "cell_type": "code",
   "execution_count": 36,
   "id": "341ff58e",
   "metadata": {
    "execution": {
     "iopub.execute_input": "2021-08-30T14:09:30.050989Z",
     "iopub.status.busy": "2021-08-30T14:09:30.050331Z",
     "iopub.status.idle": "2021-08-30T14:09:30.072227Z",
     "shell.execute_reply": "2021-08-30T14:09:30.072710Z",
     "shell.execute_reply.started": "2021-08-30T14:04:17.203870Z"
    },
    "papermill": {
     "duration": 0.067143,
     "end_time": "2021-08-30T14:09:30.072910",
     "exception": false,
     "start_time": "2021-08-30T14:09:30.005767",
     "status": "completed"
    },
    "tags": []
   },
   "outputs": [],
   "source": [
    "X1_test=X_test.copy()\n",
    "\n",
    "\n",
    "X1_test=Binarizer('Functioning Day',X1_test)"
   ]
  },
  {
   "cell_type": "code",
   "execution_count": 37,
   "id": "eb0b06c4",
   "metadata": {
    "execution": {
     "iopub.execute_input": "2021-08-30T14:09:30.159600Z",
     "iopub.status.busy": "2021-08-30T14:09:30.159046Z",
     "iopub.status.idle": "2021-08-30T14:09:30.164944Z",
     "shell.execute_reply": "2021-08-30T14:09:30.165400Z",
     "shell.execute_reply.started": "2021-08-30T14:04:17.383825Z"
    },
    "papermill": {
     "duration": 0.050017,
     "end_time": "2021-08-30T14:09:30.165565",
     "exception": false,
     "start_time": "2021-08-30T14:09:30.115548",
     "status": "completed"
    },
    "tags": []
   },
   "outputs": [],
   "source": [
    "\n",
    "\n",
    "#Changing date object to datetime \n",
    "X1_test['Date']=pd.to_datetime(X1_test['Date'])\n"
   ]
  },
  {
   "cell_type": "code",
   "execution_count": 38,
   "id": "380c7792",
   "metadata": {
    "execution": {
     "iopub.execute_input": "2021-08-30T14:09:30.251321Z",
     "iopub.status.busy": "2021-08-30T14:09:30.250733Z",
     "iopub.status.idle": "2021-08-30T14:09:30.263012Z",
     "shell.execute_reply": "2021-08-30T14:09:30.263457Z",
     "shell.execute_reply.started": "2021-08-30T14:04:17.561686Z"
    },
    "papermill": {
     "duration": 0.056598,
     "end_time": "2021-08-30T14:09:30.263645",
     "exception": false,
     "start_time": "2021-08-30T14:09:30.207047",
     "status": "completed"
    },
    "tags": []
   },
   "outputs": [],
   "source": [
    "num_cols=X1_test.select_dtypes('number').columns\n",
    "skew_limit=0.75\n",
    "skew_vals=X1_test[num_cols].skew()"
   ]
  },
  {
   "cell_type": "code",
   "execution_count": 39,
   "id": "2cade50c",
   "metadata": {
    "execution": {
     "iopub.execute_input": "2021-08-30T14:09:30.350215Z",
     "iopub.status.busy": "2021-08-30T14:09:30.349613Z",
     "iopub.status.idle": "2021-08-30T14:09:30.357766Z",
     "shell.execute_reply": "2021-08-30T14:09:30.357221Z",
     "shell.execute_reply.started": "2021-08-30T14:04:18.681260Z"
    },
    "papermill": {
     "duration": 0.052443,
     "end_time": "2021-08-30T14:09:30.357921",
     "exception": false,
     "start_time": "2021-08-30T14:09:30.305478",
     "status": "completed"
    },
    "tags": []
   },
   "outputs": [
    {
     "data": {
      "text/plain": [
       "Rainfall(mm)                       12.901337\n",
       "lag_-1_Rainfall(mm)                12.899179\n",
       "lag_1_Rainfall(mm)                 12.899179\n",
       "lag_3_Rainfall(mm)                 12.894861\n",
       "lag_-3_Rainfall(mm)                12.894861\n",
       "lag_-5_Rainfall(mm)                12.890541\n",
       "lag_-7_Rainfall(mm)                12.886220\n",
       "lag_-9_Rainfall(mm)                12.881898\n",
       "lag_-11_Rainfall(mm)               12.877574\n",
       "lag_-11_Snowfall (cm)               7.232700\n",
       "lag_-9_Snowfall (cm)                7.168659\n",
       "lag_-7_Snowfall (cm)                7.103499\n",
       "lag_-5_Snowfall (cm)                7.039614\n",
       "lag_-3_Snowfall (cm)                6.976967\n",
       "lag_-1_Snowfall (cm)                6.915523\n",
       "Snowfall (cm)                       6.885240\n",
       "lag_1_Snowfall (cm)                 6.884043\n",
       "lag_3_Snowfall (cm)                 6.881650\n",
       "Solar Radiation (MJ/m2)             1.540613\n",
       "lag_1_Solar Radiation (MJ/m2)       1.540123\n",
       "lag_-1_Solar Radiation (MJ/m2)      1.540123\n",
       "lag_3_Solar Radiation (MJ/m2)       1.539143\n",
       "lag_-3_Solar Radiation (MJ/m2)      1.539143\n",
       "lag_-5_Solar Radiation (MJ/m2)      1.538162\n",
       "lag_-7_Solar Radiation (MJ/m2)      1.537181\n",
       "lag_-9_Solar Radiation (MJ/m2)      1.536199\n",
       "lag_-11_Solar Radiation (MJ/m2)     1.535560\n",
       "lag_3_y_avg_season_hour             0.828869\n",
       "y_avg_season_hour                   0.827440\n",
       "lag_1_y_avg_season_hour             0.827406\n",
       "lag_-1_y_avg_season_hour            0.827117\n",
       "lag_-3_y_avg_season_hour            0.826613\n",
       "lag_-5_y_avg_season_hour            0.826558\n",
       "lag_-7_y_avg_season_hour            0.826438\n",
       "lag_-9_y_avg_season_hour            0.825526\n",
       "lag_-11_y_avg_season_hour           0.824699\n",
       "lag_-1_Wind speed (m/s)             0.794626\n",
       "Wind speed (m/s)                    0.794467\n",
       "lag_1_Wind speed (m/s)              0.794008\n",
       "lag_-3_Wind speed (m/s)             0.793971\n",
       "lag_3_Wind speed (m/s)              0.793665\n",
       "lag_-5_Wind speed (m/s)             0.793012\n",
       "lag_-7_Wind speed (m/s)             0.792157\n",
       "lag_-9_Wind speed (m/s)             0.791130\n",
       "lag_-11_Wind speed (m/s)            0.790724\n",
       "Functioning Day                    -7.718538\n",
       "dtype: float64"
      ]
     },
     "execution_count": 39,
     "metadata": {},
     "output_type": "execute_result"
    }
   ],
   "source": [
    "#Showing the skew columns\n",
    "skew_cols=skew_vals[abs(skew_vals)>skew_limit].sort_values(ascending=False)\n",
    "skew_cols"
   ]
  },
  {
   "cell_type": "code",
   "execution_count": 40,
   "id": "2b14aac3",
   "metadata": {
    "execution": {
     "iopub.execute_input": "2021-08-30T14:09:30.445197Z",
     "iopub.status.busy": "2021-08-30T14:09:30.444248Z",
     "iopub.status.idle": "2021-08-30T14:09:30.463691Z",
     "shell.execute_reply": "2021-08-30T14:09:30.464183Z",
     "shell.execute_reply.started": "2021-08-30T14:04:18.821649Z"
    },
    "papermill": {
     "duration": 0.064833,
     "end_time": "2021-08-30T14:09:30.464389",
     "exception": false,
     "start_time": "2021-08-30T14:09:30.399556",
     "status": "completed"
    },
    "tags": []
   },
   "outputs": [],
   "source": [
    "#perform the skew transformations\n",
    "\n",
    "for col in skew_cols.index.values:\n",
    "    if col=='Seasons_Spring'or col=='Seasons_Summer' or col=='Seasons_Winter' or col=='Visibility (10m)':\n",
    "        continue\n",
    "    X1_test[col]=X1_test[col].apply(np.log1p)\n",
    "    "
   ]
  },
  {
   "cell_type": "code",
   "execution_count": 41,
   "id": "f285fe27",
   "metadata": {
    "execution": {
     "iopub.execute_input": "2021-08-30T14:09:30.551832Z",
     "iopub.status.busy": "2021-08-30T14:09:30.550692Z",
     "iopub.status.idle": "2021-08-30T14:09:30.555333Z",
     "shell.execute_reply": "2021-08-30T14:09:30.555866Z",
     "shell.execute_reply.started": "2021-08-30T14:04:19.047342Z"
    },
    "papermill": {
     "duration": 0.049872,
     "end_time": "2021-08-30T14:09:30.556092",
     "exception": false,
     "start_time": "2021-08-30T14:09:30.506220",
     "status": "completed"
    },
    "tags": []
   },
   "outputs": [],
   "source": [
    "X2_test=X1_test.copy()"
   ]
  },
  {
   "cell_type": "code",
   "execution_count": 42,
   "id": "1b9b5ab2",
   "metadata": {
    "execution": {
     "iopub.execute_input": "2021-08-30T14:09:30.643920Z",
     "iopub.status.busy": "2021-08-30T14:09:30.643014Z",
     "iopub.status.idle": "2021-08-30T14:09:30.653741Z",
     "shell.execute_reply": "2021-08-30T14:09:30.654189Z",
     "shell.execute_reply.started": "2021-08-30T14:04:19.228882Z"
    },
    "papermill": {
     "duration": 0.056273,
     "end_time": "2021-08-30T14:09:30.654376",
     "exception": false,
     "start_time": "2021-08-30T14:09:30.598103",
     "status": "completed"
    },
    "tags": []
   },
   "outputs": [],
   "source": [
    "# Tranforming Date to days,months and years\n",
    "X2_test['year']=pd.to_datetime(X2_test['Date'].dt.year)\n",
    "X2_test['day']=pd.to_datetime(X2_test['Date'].dt.day)\n",
    "\n",
    "X2_test['year']=pd.to_numeric(X2_test['year'])\n",
    "X2_test['day']=pd.to_numeric(X2_test['day'])\n",
    "\n",
    "\n",
    "\n"
   ]
  },
  {
   "cell_type": "code",
   "execution_count": 43,
   "id": "4c558587",
   "metadata": {
    "execution": {
     "iopub.execute_input": "2021-08-30T14:09:30.741573Z",
     "iopub.status.busy": "2021-08-30T14:09:30.740708Z",
     "iopub.status.idle": "2021-08-30T14:09:30.768335Z",
     "shell.execute_reply": "2021-08-30T14:09:30.768800Z",
     "shell.execute_reply.started": "2021-08-30T14:04:20.217483Z"
    },
    "papermill": {
     "duration": 0.072717,
     "end_time": "2021-08-30T14:09:30.768975",
     "exception": false,
     "start_time": "2021-08-30T14:09:30.696258",
     "status": "completed"
    },
    "tags": []
   },
   "outputs": [
    {
     "name": "stdout",
     "output_type": "stream",
     "text": [
      "<class 'pandas.core.frame.DataFrame'>\n",
      "RangeIndex: 3000 entries, 0 to 2999\n",
      "Columns: 109 entries, Hour to Travelling_time\n",
      "dtypes: datetime64[ns](1), float64(96), int32(1), int64(9), object(2)\n",
      "memory usage: 2.5+ MB\n"
     ]
    }
   ],
   "source": [
    "X2_test['dayofweek'] = X2_test['Date'].dt.dayofweek\n",
    "X2_test['WeekOfYear'] = X2_test['Date'].dt.isocalendar().week.astype(np.int64)\n",
    "X2_test['DayofYear'] = X2_test['Date'].dt.dayofyear\n",
    "X2_test['hours_dt'] = pd.to_datetime(X2_test['Hour'], format='%H')\n",
    "X2_test['Travelling_time'] = np.where(X2_test['Hour'].isin(hours_list), 1, 0)\n",
    "\n",
    "\n",
    "X2_test.drop('Date',axis=1,inplace=True)\n",
    "\n",
    "X2_test.info()"
   ]
  },
  {
   "cell_type": "code",
   "execution_count": 44,
   "id": "63a75f83",
   "metadata": {
    "execution": {
     "iopub.execute_input": "2021-08-30T14:09:30.855688Z",
     "iopub.status.busy": "2021-08-30T14:09:30.855101Z",
     "iopub.status.idle": "2021-08-30T14:09:30.864972Z",
     "shell.execute_reply": "2021-08-30T14:09:30.864474Z",
     "shell.execute_reply.started": "2021-08-30T14:04:20.429120Z"
    },
    "papermill": {
     "duration": 0.054217,
     "end_time": "2021-08-30T14:09:30.865117",
     "exception": false,
     "start_time": "2021-08-30T14:09:30.810900",
     "status": "completed"
    },
    "tags": []
   },
   "outputs": [],
   "source": [
    "X2_test = X2_test.replace(ordinal_vals)"
   ]
  },
  {
   "cell_type": "code",
   "execution_count": 45,
   "id": "89023bd5",
   "metadata": {
    "execution": {
     "iopub.execute_input": "2021-08-30T14:09:30.954528Z",
     "iopub.status.busy": "2021-08-30T14:09:30.953885Z",
     "iopub.status.idle": "2021-08-30T14:09:30.955529Z",
     "shell.execute_reply": "2021-08-30T14:09:30.955981Z",
     "shell.execute_reply.started": "2021-08-30T14:04:20.601976Z"
    },
    "papermill": {
     "duration": 0.049139,
     "end_time": "2021-08-30T14:09:30.956146",
     "exception": false,
     "start_time": "2021-08-30T14:09:30.907007",
     "status": "completed"
    },
    "tags": []
   },
   "outputs": [],
   "source": [
    "X2_test['Humidity(%)'] = np.where(X2_test['Humidity(%)']==0, 57, X2_test['Humidity(%)'])"
   ]
  },
  {
   "cell_type": "code",
   "execution_count": 46,
   "id": "01b5b70e",
   "metadata": {
    "execution": {
     "iopub.execute_input": "2021-08-30T14:09:31.043314Z",
     "iopub.status.busy": "2021-08-30T14:09:31.042731Z",
     "iopub.status.idle": "2021-08-30T14:09:31.046324Z",
     "shell.execute_reply": "2021-08-30T14:09:31.046710Z",
     "shell.execute_reply.started": "2021-08-30T14:04:21.650161Z"
    },
    "papermill": {
     "duration": 0.048614,
     "end_time": "2021-08-30T14:09:31.046891",
     "exception": false,
     "start_time": "2021-08-30T14:09:30.998277",
     "status": "completed"
    },
    "tags": []
   },
   "outputs": [],
   "source": [
    "cols_list = X2.columns.tolist()"
   ]
  },
  {
   "cell_type": "code",
   "execution_count": 47,
   "id": "015633c7",
   "metadata": {
    "execution": {
     "iopub.execute_input": "2021-08-30T14:09:31.133554Z",
     "iopub.status.busy": "2021-08-30T14:09:31.133027Z",
     "iopub.status.idle": "2021-08-30T14:09:31.147975Z",
     "shell.execute_reply": "2021-08-30T14:09:31.148452Z",
     "shell.execute_reply.started": "2021-08-30T14:04:21.838475Z"
    },
    "papermill": {
     "duration": 0.05968,
     "end_time": "2021-08-30T14:09:31.148631",
     "exception": false,
     "start_time": "2021-08-30T14:09:31.088951",
     "status": "completed"
    },
    "tags": []
   },
   "outputs": [
    {
     "name": "stdout",
     "output_type": "stream",
     "text": [
      "<class 'pandas.core.frame.DataFrame'>\n",
      "RangeIndex: 3000 entries, 0 to 2999\n",
      "Columns: 106 entries, Hour to lag_1_weathercluster\n",
      "dtypes: float64(94), int32(1), int64(11)\n",
      "memory usage: 2.4 MB\n"
     ]
    }
   ],
   "source": [
    "X2_test=X2_test[cols_list]\n",
    "\n",
    "X2_test.info()"
   ]
  },
  {
   "cell_type": "code",
   "execution_count": 48,
   "id": "9395b939",
   "metadata": {
    "execution": {
     "iopub.execute_input": "2021-08-30T14:09:31.236968Z",
     "iopub.status.busy": "2021-08-30T14:09:31.236400Z",
     "iopub.status.idle": "2021-08-30T14:09:31.240818Z",
     "shell.execute_reply": "2021-08-30T14:09:31.241263Z",
     "shell.execute_reply.started": "2021-08-30T14:04:22.267011Z"
    },
    "papermill": {
     "duration": 0.049489,
     "end_time": "2021-08-30T14:09:31.241413",
     "exception": false,
     "start_time": "2021-08-30T14:09:31.191924",
     "status": "completed"
    },
    "tags": []
   },
   "outputs": [],
   "source": [
    "X2_test.fillna(0,inplace=True)"
   ]
  },
  {
   "cell_type": "code",
   "execution_count": 49,
   "id": "c0f23a01",
   "metadata": {
    "execution": {
     "iopub.execute_input": "2021-08-30T14:09:31.328747Z",
     "iopub.status.busy": "2021-08-30T14:09:31.328197Z",
     "iopub.status.idle": "2021-08-30T14:09:31.377857Z",
     "shell.execute_reply": "2021-08-30T14:09:31.378372Z",
     "shell.execute_reply.started": "2021-08-30T14:08:38.397550Z"
    },
    "papermill": {
     "duration": 0.094798,
     "end_time": "2021-08-30T14:09:31.378547",
     "exception": false,
     "start_time": "2021-08-30T14:09:31.283749",
     "status": "completed"
    },
    "tags": []
   },
   "outputs": [],
   "source": [
    "y_test_predict_XGB=xgb_best.predict(X2_test)"
   ]
  },
  {
   "cell_type": "code",
   "execution_count": 50,
   "id": "5a80a5d5",
   "metadata": {
    "execution": {
     "iopub.execute_input": "2021-08-30T14:09:31.465353Z",
     "iopub.status.busy": "2021-08-30T14:09:31.464764Z",
     "iopub.status.idle": "2021-08-30T14:09:31.468235Z",
     "shell.execute_reply": "2021-08-30T14:09:31.468742Z",
     "shell.execute_reply.started": "2021-08-30T14:08:38.711985Z"
    },
    "papermill": {
     "duration": 0.048264,
     "end_time": "2021-08-30T14:09:31.468925",
     "exception": false,
     "start_time": "2021-08-30T14:09:31.420661",
     "status": "completed"
    },
    "tags": []
   },
   "outputs": [],
   "source": [
    "y_test_final_XGB=np.exp(y_test_predict_XGB)-1\n",
    "y_test_final_XGB = np.where(y_test_final_XGB<0.0,0,y_test_final_XGB)"
   ]
  },
  {
   "cell_type": "code",
   "execution_count": 51,
   "id": "6fdcd7fe",
   "metadata": {
    "execution": {
     "iopub.execute_input": "2021-08-30T14:09:31.556305Z",
     "iopub.status.busy": "2021-08-30T14:09:31.555245Z",
     "iopub.status.idle": "2021-08-30T14:09:31.559247Z",
     "shell.execute_reply": "2021-08-30T14:09:31.559698Z",
     "shell.execute_reply.started": "2021-08-30T14:08:39.177385Z"
    },
    "papermill": {
     "duration": 0.048794,
     "end_time": "2021-08-30T14:09:31.559871",
     "exception": false,
     "start_time": "2021-08-30T14:09:31.511077",
     "status": "completed"
    },
    "tags": []
   },
   "outputs": [],
   "source": [
    "df_testXGB=df_test.copy()"
   ]
  },
  {
   "cell_type": "code",
   "execution_count": 52,
   "id": "89040ae7",
   "metadata": {
    "execution": {
     "iopub.execute_input": "2021-08-30T14:09:31.647025Z",
     "iopub.status.busy": "2021-08-30T14:09:31.646402Z",
     "iopub.status.idle": "2021-08-30T14:09:31.651394Z",
     "shell.execute_reply": "2021-08-30T14:09:31.650942Z",
     "shell.execute_reply.started": "2021-08-30T14:08:39.728515Z"
    },
    "papermill": {
     "duration": 0.049559,
     "end_time": "2021-08-30T14:09:31.651529",
     "exception": false,
     "start_time": "2021-08-30T14:09:31.601970",
     "status": "completed"
    },
    "tags": []
   },
   "outputs": [],
   "source": [
    "df_testXGB['y']=y_test_final_XGB\n",
    "\n"
   ]
  },
  {
   "cell_type": "code",
   "execution_count": 53,
   "id": "f5fe85af",
   "metadata": {
    "execution": {
     "iopub.execute_input": "2021-08-30T14:09:31.741676Z",
     "iopub.status.busy": "2021-08-30T14:09:31.741073Z",
     "iopub.status.idle": "2021-08-30T14:09:31.752945Z",
     "shell.execute_reply": "2021-08-30T14:09:31.752446Z",
     "shell.execute_reply.started": "2021-08-30T14:08:40.434990Z"
    },
    "papermill": {
     "duration": 0.05919,
     "end_time": "2021-08-30T14:09:31.753090",
     "exception": false,
     "start_time": "2021-08-30T14:09:31.693900",
     "status": "completed"
    },
    "tags": []
   },
   "outputs": [],
   "source": [
    "df_testXGB[['ID','y']].to_csv('/kaggle/working/submissiongbrXGBFinal.csv', index=False)"
   ]
  },
  {
   "cell_type": "code",
   "execution_count": null,
   "id": "a4c10e33",
   "metadata": {
    "papermill": {
     "duration": 0.041658,
     "end_time": "2021-08-30T14:09:31.837196",
     "exception": false,
     "start_time": "2021-08-30T14:09:31.795538",
     "status": "completed"
    },
    "tags": []
   },
   "outputs": [],
   "source": []
  }
 ],
 "metadata": {
  "kernelspec": {
   "display_name": "Python 3",
   "language": "python",
   "name": "python3"
  },
  "language_info": {
   "codemirror_mode": {
    "name": "ipython",
    "version": 3
   },
   "file_extension": ".py",
   "mimetype": "text/x-python",
   "name": "python",
   "nbconvert_exporter": "python",
   "pygments_lexer": "ipython3",
   "version": "3.7.10"
  },
  "papermill": {
   "default_parameters": {},
   "duration": 39.741232,
   "end_time": "2021-08-30T14:09:33.556885",
   "environment_variables": {},
   "exception": null,
   "input_path": "__notebook__.ipynb",
   "output_path": "__notebook__.ipynb",
   "parameters": {},
   "start_time": "2021-08-30T14:08:53.815653",
   "version": "2.3.3"
  }
 },
 "nbformat": 4,
 "nbformat_minor": 5
}
